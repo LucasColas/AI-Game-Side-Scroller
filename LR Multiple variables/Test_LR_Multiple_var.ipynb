{
  "nbformat": 4,
  "nbformat_minor": 0,
  "metadata": {
    "colab": {
      "name": "Test LR Multiple var.ipynb",
      "provenance": [],
      "collapsed_sections": [],
      "authorship_tag": "ABX9TyOhx1lypvCA8D3Y7txzsl5e",
      "include_colab_link": true
    },
    "kernelspec": {
      "name": "python3",
      "display_name": "Python 3"
    }
  },
  "cells": [
    {
      "cell_type": "markdown",
      "metadata": {
        "id": "view-in-github",
        "colab_type": "text"
      },
      "source": [
        "<a href=\"https://colab.research.google.com/github/LucasColas/AI-Game-Side-Scroller/blob/master/LR%20Multiple%20variables/Test_LR_Multiple_var.ipynb\" target=\"_parent\"><img src=\"https://colab.research.google.com/assets/colab-badge.svg\" alt=\"Open In Colab\"/></a>"
      ]
    },
    {
      "cell_type": "markdown",
      "metadata": {
        "id": "Ug1PzqngJj5O"
      },
      "source": [
        "# Multiple Linear Regression  \n",
        "\n",
        "---\n",
        "\n"
      ]
    },
    {
      "cell_type": "code",
      "metadata": {
        "id": "i6BZ1VSrhDRc"
      },
      "source": [
        "import numpy as np\n",
        "import pandas as pd\n",
        "import matplotlib.pyplot as plt \n",
        "from sklearn import preprocessing\n",
        "from sklearn import model_selection\n",
        "from sklearn import linear_model\n"
      ],
      "execution_count": 19,
      "outputs": []
    },
    {
      "cell_type": "code",
      "metadata": {
        "colab": {
          "resources": {
            "http://localhost:8080/nbextensions/google.colab/files.js": {
              "data": "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",
              "ok": true,
              "headers": [
                [
                  "content-type",
                  "application/javascript"
                ]
              ],
              "status": 200,
              "status_text": "OK"
            }
          },
          "base_uri": "https://localhost:8080/",
          "height": 73
        },
        "id": "-sew-78UhDN7",
        "outputId": "16ff42c0-03e2-484f-a445-2f355120bba7"
      },
      "source": [
        "from google.colab import files\n",
        "import io\n",
        "\n",
        "dataset = files.upload()"
      ],
      "execution_count": 2,
      "outputs": [
        {
          "output_type": "display_data",
          "data": {
            "text/html": [
              "\n",
              "     <input type=\"file\" id=\"files-b6baa42b-f435-4a4e-ab6c-2c1d8269856a\" name=\"files[]\" multiple disabled\n",
              "        style=\"border:none\" />\n",
              "     <output id=\"result-b6baa42b-f435-4a4e-ab6c-2c1d8269856a\">\n",
              "      Upload widget is only available when the cell has been executed in the\n",
              "      current browser session. Please rerun this cell to enable.\n",
              "      </output>\n",
              "      <script src=\"/nbextensions/google.colab/files.js\"></script> "
            ],
            "text/plain": [
              "<IPython.core.display.HTML object>"
            ]
          },
          "metadata": {
            "tags": []
          }
        },
        {
          "output_type": "stream",
          "text": [
            "Saving data_csv.csv to data_csv.csv\n"
          ],
          "name": "stdout"
        }
      ]
    },
    {
      "cell_type": "code",
      "metadata": {
        "id": "trg4e_uThDK9"
      },
      "source": [
        "df = pd.read_csv(io.BytesIO(dataset['data_csv.csv']))"
      ],
      "execution_count": 3,
      "outputs": []
    },
    {
      "cell_type": "code",
      "metadata": {
        "colab": {
          "base_uri": "https://localhost:8080/",
          "height": 424
        },
        "id": "SflsNTRfhDHp",
        "outputId": "07cc188d-7299-43ef-a2cf-6bfa67fa727c"
      },
      "source": [
        "df #Load"
      ],
      "execution_count": 4,
      "outputs": [
        {
          "output_type": "execute_result",
          "data": {
            "text/html": [
              "<div>\n",
              "<style scoped>\n",
              "    .dataframe tbody tr th:only-of-type {\n",
              "        vertical-align: middle;\n",
              "    }\n",
              "\n",
              "    .dataframe tbody tr th {\n",
              "        vertical-align: top;\n",
              "    }\n",
              "\n",
              "    .dataframe thead th {\n",
              "        text-align: right;\n",
              "    }\n",
              "</style>\n",
              "<table border=\"1\" class=\"dataframe\">\n",
              "  <thead>\n",
              "    <tr style=\"text-align: right;\">\n",
              "      <th></th>\n",
              "      <th>Date</th>\n",
              "      <th>SP500</th>\n",
              "      <th>Dividend</th>\n",
              "      <th>Earnings</th>\n",
              "      <th>Consumer Price Index</th>\n",
              "      <th>Long Interest Rate</th>\n",
              "      <th>Real Price</th>\n",
              "      <th>Real Dividend</th>\n",
              "      <th>Real Earnings</th>\n",
              "      <th>PE10</th>\n",
              "    </tr>\n",
              "  </thead>\n",
              "  <tbody>\n",
              "    <tr>\n",
              "      <th>0</th>\n",
              "      <td>1871-01-01</td>\n",
              "      <td>4.44</td>\n",
              "      <td>0.26</td>\n",
              "      <td>0.40</td>\n",
              "      <td>12.46</td>\n",
              "      <td>5.32</td>\n",
              "      <td>89.00</td>\n",
              "      <td>5.21</td>\n",
              "      <td>8.02</td>\n",
              "      <td>NaN</td>\n",
              "    </tr>\n",
              "    <tr>\n",
              "      <th>1</th>\n",
              "      <td>1871-02-01</td>\n",
              "      <td>4.50</td>\n",
              "      <td>0.26</td>\n",
              "      <td>0.40</td>\n",
              "      <td>12.84</td>\n",
              "      <td>5.32</td>\n",
              "      <td>87.53</td>\n",
              "      <td>5.06</td>\n",
              "      <td>7.78</td>\n",
              "      <td>NaN</td>\n",
              "    </tr>\n",
              "    <tr>\n",
              "      <th>2</th>\n",
              "      <td>1871-03-01</td>\n",
              "      <td>4.61</td>\n",
              "      <td>0.26</td>\n",
              "      <td>0.40</td>\n",
              "      <td>13.03</td>\n",
              "      <td>5.33</td>\n",
              "      <td>88.36</td>\n",
              "      <td>4.98</td>\n",
              "      <td>7.67</td>\n",
              "      <td>NaN</td>\n",
              "    </tr>\n",
              "    <tr>\n",
              "      <th>3</th>\n",
              "      <td>1871-04-01</td>\n",
              "      <td>4.74</td>\n",
              "      <td>0.26</td>\n",
              "      <td>0.40</td>\n",
              "      <td>12.56</td>\n",
              "      <td>5.33</td>\n",
              "      <td>94.29</td>\n",
              "      <td>5.17</td>\n",
              "      <td>7.96</td>\n",
              "      <td>NaN</td>\n",
              "    </tr>\n",
              "    <tr>\n",
              "      <th>4</th>\n",
              "      <td>1871-05-01</td>\n",
              "      <td>4.86</td>\n",
              "      <td>0.26</td>\n",
              "      <td>0.40</td>\n",
              "      <td>12.27</td>\n",
              "      <td>5.33</td>\n",
              "      <td>98.93</td>\n",
              "      <td>5.29</td>\n",
              "      <td>8.14</td>\n",
              "      <td>NaN</td>\n",
              "    </tr>\n",
              "    <tr>\n",
              "      <th>...</th>\n",
              "      <td>...</td>\n",
              "      <td>...</td>\n",
              "      <td>...</td>\n",
              "      <td>...</td>\n",
              "      <td>...</td>\n",
              "      <td>...</td>\n",
              "      <td>...</td>\n",
              "      <td>...</td>\n",
              "      <td>...</td>\n",
              "      <td>...</td>\n",
              "    </tr>\n",
              "    <tr>\n",
              "      <th>1763</th>\n",
              "      <td>2017-12-01</td>\n",
              "      <td>2664.34</td>\n",
              "      <td>48.93</td>\n",
              "      <td>109.88</td>\n",
              "      <td>246.52</td>\n",
              "      <td>2.40</td>\n",
              "      <td>2700.13</td>\n",
              "      <td>49.59</td>\n",
              "      <td>111.36</td>\n",
              "      <td>32.09</td>\n",
              "    </tr>\n",
              "    <tr>\n",
              "      <th>1764</th>\n",
              "      <td>2018-01-01</td>\n",
              "      <td>2789.80</td>\n",
              "      <td>49.29</td>\n",
              "      <td>NaN</td>\n",
              "      <td>247.87</td>\n",
              "      <td>2.58</td>\n",
              "      <td>2811.96</td>\n",
              "      <td>49.68</td>\n",
              "      <td>NaN</td>\n",
              "      <td>33.31</td>\n",
              "    </tr>\n",
              "    <tr>\n",
              "      <th>1765</th>\n",
              "      <td>2018-02-01</td>\n",
              "      <td>2705.16</td>\n",
              "      <td>49.64</td>\n",
              "      <td>NaN</td>\n",
              "      <td>248.99</td>\n",
              "      <td>2.86</td>\n",
              "      <td>2714.34</td>\n",
              "      <td>49.81</td>\n",
              "      <td>NaN</td>\n",
              "      <td>32.12</td>\n",
              "    </tr>\n",
              "    <tr>\n",
              "      <th>1766</th>\n",
              "      <td>2018-03-01</td>\n",
              "      <td>2702.77</td>\n",
              "      <td>50.00</td>\n",
              "      <td>NaN</td>\n",
              "      <td>249.55</td>\n",
              "      <td>2.84</td>\n",
              "      <td>2705.82</td>\n",
              "      <td>50.06</td>\n",
              "      <td>NaN</td>\n",
              "      <td>31.99</td>\n",
              "    </tr>\n",
              "    <tr>\n",
              "      <th>1767</th>\n",
              "      <td>2018-04-01</td>\n",
              "      <td>2642.19</td>\n",
              "      <td>NaN</td>\n",
              "      <td>NaN</td>\n",
              "      <td>249.84</td>\n",
              "      <td>2.80</td>\n",
              "      <td>2642.19</td>\n",
              "      <td>NaN</td>\n",
              "      <td>NaN</td>\n",
              "      <td>31.19</td>\n",
              "    </tr>\n",
              "  </tbody>\n",
              "</table>\n",
              "<p>1768 rows × 10 columns</p>\n",
              "</div>"
            ],
            "text/plain": [
              "            Date    SP500  Dividend  ...  Real Dividend  Real Earnings   PE10\n",
              "0     1871-01-01     4.44      0.26  ...           5.21           8.02    NaN\n",
              "1     1871-02-01     4.50      0.26  ...           5.06           7.78    NaN\n",
              "2     1871-03-01     4.61      0.26  ...           4.98           7.67    NaN\n",
              "3     1871-04-01     4.74      0.26  ...           5.17           7.96    NaN\n",
              "4     1871-05-01     4.86      0.26  ...           5.29           8.14    NaN\n",
              "...          ...      ...       ...  ...            ...            ...    ...\n",
              "1763  2017-12-01  2664.34     48.93  ...          49.59         111.36  32.09\n",
              "1764  2018-01-01  2789.80     49.29  ...          49.68            NaN  33.31\n",
              "1765  2018-02-01  2705.16     49.64  ...          49.81            NaN  32.12\n",
              "1766  2018-03-01  2702.77     50.00  ...          50.06            NaN  31.99\n",
              "1767  2018-04-01  2642.19       NaN  ...            NaN            NaN  31.19\n",
              "\n",
              "[1768 rows x 10 columns]"
            ]
          },
          "metadata": {
            "tags": []
          },
          "execution_count": 4
        }
      ]
    },
    {
      "cell_type": "code",
      "metadata": {
        "id": "3bc6nedphDEp"
      },
      "source": [
        "dataset = df.iloc[948:1768,0:10]"
      ],
      "execution_count": 5,
      "outputs": []
    },
    {
      "cell_type": "code",
      "metadata": {
        "colab": {
          "base_uri": "https://localhost:8080/",
          "height": 424
        },
        "id": "luv2OKZ5hDBp",
        "outputId": "72b71637-c97a-4793-f0f4-430eeda09024"
      },
      "source": [
        "dataset"
      ],
      "execution_count": 6,
      "outputs": [
        {
          "output_type": "execute_result",
          "data": {
            "text/html": [
              "<div>\n",
              "<style scoped>\n",
              "    .dataframe tbody tr th:only-of-type {\n",
              "        vertical-align: middle;\n",
              "    }\n",
              "\n",
              "    .dataframe tbody tr th {\n",
              "        vertical-align: top;\n",
              "    }\n",
              "\n",
              "    .dataframe thead th {\n",
              "        text-align: right;\n",
              "    }\n",
              "</style>\n",
              "<table border=\"1\" class=\"dataframe\">\n",
              "  <thead>\n",
              "    <tr style=\"text-align: right;\">\n",
              "      <th></th>\n",
              "      <th>Date</th>\n",
              "      <th>SP500</th>\n",
              "      <th>Dividend</th>\n",
              "      <th>Earnings</th>\n",
              "      <th>Consumer Price Index</th>\n",
              "      <th>Long Interest Rate</th>\n",
              "      <th>Real Price</th>\n",
              "      <th>Real Dividend</th>\n",
              "      <th>Real Earnings</th>\n",
              "      <th>PE10</th>\n",
              "    </tr>\n",
              "  </thead>\n",
              "  <tbody>\n",
              "    <tr>\n",
              "      <th>948</th>\n",
              "      <td>1950-01-01</td>\n",
              "      <td>16.88</td>\n",
              "      <td>1.15</td>\n",
              "      <td>2.34</td>\n",
              "      <td>23.50</td>\n",
              "      <td>2.32</td>\n",
              "      <td>179.46</td>\n",
              "      <td>12.23</td>\n",
              "      <td>24.84</td>\n",
              "      <td>10.75</td>\n",
              "    </tr>\n",
              "    <tr>\n",
              "      <th>949</th>\n",
              "      <td>1950-02-01</td>\n",
              "      <td>17.21</td>\n",
              "      <td>1.16</td>\n",
              "      <td>2.35</td>\n",
              "      <td>23.50</td>\n",
              "      <td>2.34</td>\n",
              "      <td>182.96</td>\n",
              "      <td>12.33</td>\n",
              "      <td>25.02</td>\n",
              "      <td>10.91</td>\n",
              "    </tr>\n",
              "    <tr>\n",
              "      <th>950</th>\n",
              "      <td>1950-03-01</td>\n",
              "      <td>17.35</td>\n",
              "      <td>1.17</td>\n",
              "      <td>2.37</td>\n",
              "      <td>23.60</td>\n",
              "      <td>2.36</td>\n",
              "      <td>183.67</td>\n",
              "      <td>12.39</td>\n",
              "      <td>25.09</td>\n",
              "      <td>10.91</td>\n",
              "    </tr>\n",
              "    <tr>\n",
              "      <th>951</th>\n",
              "      <td>1950-04-01</td>\n",
              "      <td>17.84</td>\n",
              "      <td>1.18</td>\n",
              "      <td>2.43</td>\n",
              "      <td>23.60</td>\n",
              "      <td>2.38</td>\n",
              "      <td>188.86</td>\n",
              "      <td>12.49</td>\n",
              "      <td>25.69</td>\n",
              "      <td>11.18</td>\n",
              "    </tr>\n",
              "    <tr>\n",
              "      <th>952</th>\n",
              "      <td>1950-05-01</td>\n",
              "      <td>18.44</td>\n",
              "      <td>1.19</td>\n",
              "      <td>2.48</td>\n",
              "      <td>23.70</td>\n",
              "      <td>2.40</td>\n",
              "      <td>194.39</td>\n",
              "      <td>12.54</td>\n",
              "      <td>26.18</td>\n",
              "      <td>11.46</td>\n",
              "    </tr>\n",
              "    <tr>\n",
              "      <th>...</th>\n",
              "      <td>...</td>\n",
              "      <td>...</td>\n",
              "      <td>...</td>\n",
              "      <td>...</td>\n",
              "      <td>...</td>\n",
              "      <td>...</td>\n",
              "      <td>...</td>\n",
              "      <td>...</td>\n",
              "      <td>...</td>\n",
              "      <td>...</td>\n",
              "    </tr>\n",
              "    <tr>\n",
              "      <th>1763</th>\n",
              "      <td>2017-12-01</td>\n",
              "      <td>2664.34</td>\n",
              "      <td>48.93</td>\n",
              "      <td>109.88</td>\n",
              "      <td>246.52</td>\n",
              "      <td>2.40</td>\n",
              "      <td>2700.13</td>\n",
              "      <td>49.59</td>\n",
              "      <td>111.36</td>\n",
              "      <td>32.09</td>\n",
              "    </tr>\n",
              "    <tr>\n",
              "      <th>1764</th>\n",
              "      <td>2018-01-01</td>\n",
              "      <td>2789.80</td>\n",
              "      <td>49.29</td>\n",
              "      <td>NaN</td>\n",
              "      <td>247.87</td>\n",
              "      <td>2.58</td>\n",
              "      <td>2811.96</td>\n",
              "      <td>49.68</td>\n",
              "      <td>NaN</td>\n",
              "      <td>33.31</td>\n",
              "    </tr>\n",
              "    <tr>\n",
              "      <th>1765</th>\n",
              "      <td>2018-02-01</td>\n",
              "      <td>2705.16</td>\n",
              "      <td>49.64</td>\n",
              "      <td>NaN</td>\n",
              "      <td>248.99</td>\n",
              "      <td>2.86</td>\n",
              "      <td>2714.34</td>\n",
              "      <td>49.81</td>\n",
              "      <td>NaN</td>\n",
              "      <td>32.12</td>\n",
              "    </tr>\n",
              "    <tr>\n",
              "      <th>1766</th>\n",
              "      <td>2018-03-01</td>\n",
              "      <td>2702.77</td>\n",
              "      <td>50.00</td>\n",
              "      <td>NaN</td>\n",
              "      <td>249.55</td>\n",
              "      <td>2.84</td>\n",
              "      <td>2705.82</td>\n",
              "      <td>50.06</td>\n",
              "      <td>NaN</td>\n",
              "      <td>31.99</td>\n",
              "    </tr>\n",
              "    <tr>\n",
              "      <th>1767</th>\n",
              "      <td>2018-04-01</td>\n",
              "      <td>2642.19</td>\n",
              "      <td>NaN</td>\n",
              "      <td>NaN</td>\n",
              "      <td>249.84</td>\n",
              "      <td>2.80</td>\n",
              "      <td>2642.19</td>\n",
              "      <td>NaN</td>\n",
              "      <td>NaN</td>\n",
              "      <td>31.19</td>\n",
              "    </tr>\n",
              "  </tbody>\n",
              "</table>\n",
              "<p>820 rows × 10 columns</p>\n",
              "</div>"
            ],
            "text/plain": [
              "            Date    SP500  Dividend  ...  Real Dividend  Real Earnings   PE10\n",
              "948   1950-01-01    16.88      1.15  ...          12.23          24.84  10.75\n",
              "949   1950-02-01    17.21      1.16  ...          12.33          25.02  10.91\n",
              "950   1950-03-01    17.35      1.17  ...          12.39          25.09  10.91\n",
              "951   1950-04-01    17.84      1.18  ...          12.49          25.69  11.18\n",
              "952   1950-05-01    18.44      1.19  ...          12.54          26.18  11.46\n",
              "...          ...      ...       ...  ...            ...            ...    ...\n",
              "1763  2017-12-01  2664.34     48.93  ...          49.59         111.36  32.09\n",
              "1764  2018-01-01  2789.80     49.29  ...          49.68            NaN  33.31\n",
              "1765  2018-02-01  2705.16     49.64  ...          49.81            NaN  32.12\n",
              "1766  2018-03-01  2702.77     50.00  ...          50.06            NaN  31.99\n",
              "1767  2018-04-01  2642.19       NaN  ...            NaN            NaN  31.19\n",
              "\n",
              "[820 rows x 10 columns]"
            ]
          },
          "metadata": {
            "tags": []
          },
          "execution_count": 6
        }
      ]
    },
    {
      "cell_type": "code",
      "metadata": {
        "id": "n2oQ6YsdAjnz",
        "colab": {
          "base_uri": "https://localhost:8080/",
          "height": 206
        },
        "outputId": "bbe48136-35ac-41d2-d09b-b4556d2cf0f3"
      },
      "source": [
        "dataset.head()"
      ],
      "execution_count": 7,
      "outputs": [
        {
          "output_type": "execute_result",
          "data": {
            "text/html": [
              "<div>\n",
              "<style scoped>\n",
              "    .dataframe tbody tr th:only-of-type {\n",
              "        vertical-align: middle;\n",
              "    }\n",
              "\n",
              "    .dataframe tbody tr th {\n",
              "        vertical-align: top;\n",
              "    }\n",
              "\n",
              "    .dataframe thead th {\n",
              "        text-align: right;\n",
              "    }\n",
              "</style>\n",
              "<table border=\"1\" class=\"dataframe\">\n",
              "  <thead>\n",
              "    <tr style=\"text-align: right;\">\n",
              "      <th></th>\n",
              "      <th>Date</th>\n",
              "      <th>SP500</th>\n",
              "      <th>Dividend</th>\n",
              "      <th>Earnings</th>\n",
              "      <th>Consumer Price Index</th>\n",
              "      <th>Long Interest Rate</th>\n",
              "      <th>Real Price</th>\n",
              "      <th>Real Dividend</th>\n",
              "      <th>Real Earnings</th>\n",
              "      <th>PE10</th>\n",
              "    </tr>\n",
              "  </thead>\n",
              "  <tbody>\n",
              "    <tr>\n",
              "      <th>948</th>\n",
              "      <td>1950-01-01</td>\n",
              "      <td>16.88</td>\n",
              "      <td>1.15</td>\n",
              "      <td>2.34</td>\n",
              "      <td>23.5</td>\n",
              "      <td>2.32</td>\n",
              "      <td>179.46</td>\n",
              "      <td>12.23</td>\n",
              "      <td>24.84</td>\n",
              "      <td>10.75</td>\n",
              "    </tr>\n",
              "    <tr>\n",
              "      <th>949</th>\n",
              "      <td>1950-02-01</td>\n",
              "      <td>17.21</td>\n",
              "      <td>1.16</td>\n",
              "      <td>2.35</td>\n",
              "      <td>23.5</td>\n",
              "      <td>2.34</td>\n",
              "      <td>182.96</td>\n",
              "      <td>12.33</td>\n",
              "      <td>25.02</td>\n",
              "      <td>10.91</td>\n",
              "    </tr>\n",
              "    <tr>\n",
              "      <th>950</th>\n",
              "      <td>1950-03-01</td>\n",
              "      <td>17.35</td>\n",
              "      <td>1.17</td>\n",
              "      <td>2.37</td>\n",
              "      <td>23.6</td>\n",
              "      <td>2.36</td>\n",
              "      <td>183.67</td>\n",
              "      <td>12.39</td>\n",
              "      <td>25.09</td>\n",
              "      <td>10.91</td>\n",
              "    </tr>\n",
              "    <tr>\n",
              "      <th>951</th>\n",
              "      <td>1950-04-01</td>\n",
              "      <td>17.84</td>\n",
              "      <td>1.18</td>\n",
              "      <td>2.43</td>\n",
              "      <td>23.6</td>\n",
              "      <td>2.38</td>\n",
              "      <td>188.86</td>\n",
              "      <td>12.49</td>\n",
              "      <td>25.69</td>\n",
              "      <td>11.18</td>\n",
              "    </tr>\n",
              "    <tr>\n",
              "      <th>952</th>\n",
              "      <td>1950-05-01</td>\n",
              "      <td>18.44</td>\n",
              "      <td>1.19</td>\n",
              "      <td>2.48</td>\n",
              "      <td>23.7</td>\n",
              "      <td>2.40</td>\n",
              "      <td>194.39</td>\n",
              "      <td>12.54</td>\n",
              "      <td>26.18</td>\n",
              "      <td>11.46</td>\n",
              "    </tr>\n",
              "  </tbody>\n",
              "</table>\n",
              "</div>"
            ],
            "text/plain": [
              "           Date  SP500  Dividend  ...  Real Dividend  Real Earnings   PE10\n",
              "948  1950-01-01  16.88      1.15  ...          12.23          24.84  10.75\n",
              "949  1950-02-01  17.21      1.16  ...          12.33          25.02  10.91\n",
              "950  1950-03-01  17.35      1.17  ...          12.39          25.09  10.91\n",
              "951  1950-04-01  17.84      1.18  ...          12.49          25.69  11.18\n",
              "952  1950-05-01  18.44      1.19  ...          12.54          26.18  11.46\n",
              "\n",
              "[5 rows x 10 columns]"
            ]
          },
          "metadata": {
            "tags": []
          },
          "execution_count": 7
        }
      ]
    },
    {
      "cell_type": "code",
      "metadata": {
        "id": "GbIGgyoDAjkz"
      },
      "source": [
        "data_frame = dataset[['Date', 'Long Interest Rate', 'Real Price', 'Real Dividend']]"
      ],
      "execution_count": 8,
      "outputs": []
    },
    {
      "cell_type": "code",
      "metadata": {
        "id": "0hgd86urAjhy",
        "colab": {
          "base_uri": "https://localhost:8080/",
          "height": 424
        },
        "outputId": "83dbe883-fc2c-4981-9a37-4defcdf7a3bd"
      },
      "source": [
        "data_frame"
      ],
      "execution_count": 9,
      "outputs": [
        {
          "output_type": "execute_result",
          "data": {
            "text/html": [
              "<div>\n",
              "<style scoped>\n",
              "    .dataframe tbody tr th:only-of-type {\n",
              "        vertical-align: middle;\n",
              "    }\n",
              "\n",
              "    .dataframe tbody tr th {\n",
              "        vertical-align: top;\n",
              "    }\n",
              "\n",
              "    .dataframe thead th {\n",
              "        text-align: right;\n",
              "    }\n",
              "</style>\n",
              "<table border=\"1\" class=\"dataframe\">\n",
              "  <thead>\n",
              "    <tr style=\"text-align: right;\">\n",
              "      <th></th>\n",
              "      <th>Date</th>\n",
              "      <th>Long Interest Rate</th>\n",
              "      <th>Real Price</th>\n",
              "      <th>Real Dividend</th>\n",
              "    </tr>\n",
              "  </thead>\n",
              "  <tbody>\n",
              "    <tr>\n",
              "      <th>948</th>\n",
              "      <td>1950-01-01</td>\n",
              "      <td>2.32</td>\n",
              "      <td>179.46</td>\n",
              "      <td>12.23</td>\n",
              "    </tr>\n",
              "    <tr>\n",
              "      <th>949</th>\n",
              "      <td>1950-02-01</td>\n",
              "      <td>2.34</td>\n",
              "      <td>182.96</td>\n",
              "      <td>12.33</td>\n",
              "    </tr>\n",
              "    <tr>\n",
              "      <th>950</th>\n",
              "      <td>1950-03-01</td>\n",
              "      <td>2.36</td>\n",
              "      <td>183.67</td>\n",
              "      <td>12.39</td>\n",
              "    </tr>\n",
              "    <tr>\n",
              "      <th>951</th>\n",
              "      <td>1950-04-01</td>\n",
              "      <td>2.38</td>\n",
              "      <td>188.86</td>\n",
              "      <td>12.49</td>\n",
              "    </tr>\n",
              "    <tr>\n",
              "      <th>952</th>\n",
              "      <td>1950-05-01</td>\n",
              "      <td>2.40</td>\n",
              "      <td>194.39</td>\n",
              "      <td>12.54</td>\n",
              "    </tr>\n",
              "    <tr>\n",
              "      <th>...</th>\n",
              "      <td>...</td>\n",
              "      <td>...</td>\n",
              "      <td>...</td>\n",
              "      <td>...</td>\n",
              "    </tr>\n",
              "    <tr>\n",
              "      <th>1763</th>\n",
              "      <td>2017-12-01</td>\n",
              "      <td>2.40</td>\n",
              "      <td>2700.13</td>\n",
              "      <td>49.59</td>\n",
              "    </tr>\n",
              "    <tr>\n",
              "      <th>1764</th>\n",
              "      <td>2018-01-01</td>\n",
              "      <td>2.58</td>\n",
              "      <td>2811.96</td>\n",
              "      <td>49.68</td>\n",
              "    </tr>\n",
              "    <tr>\n",
              "      <th>1765</th>\n",
              "      <td>2018-02-01</td>\n",
              "      <td>2.86</td>\n",
              "      <td>2714.34</td>\n",
              "      <td>49.81</td>\n",
              "    </tr>\n",
              "    <tr>\n",
              "      <th>1766</th>\n",
              "      <td>2018-03-01</td>\n",
              "      <td>2.84</td>\n",
              "      <td>2705.82</td>\n",
              "      <td>50.06</td>\n",
              "    </tr>\n",
              "    <tr>\n",
              "      <th>1767</th>\n",
              "      <td>2018-04-01</td>\n",
              "      <td>2.80</td>\n",
              "      <td>2642.19</td>\n",
              "      <td>NaN</td>\n",
              "    </tr>\n",
              "  </tbody>\n",
              "</table>\n",
              "<p>820 rows × 4 columns</p>\n",
              "</div>"
            ],
            "text/plain": [
              "            Date  Long Interest Rate  Real Price  Real Dividend\n",
              "948   1950-01-01                2.32      179.46          12.23\n",
              "949   1950-02-01                2.34      182.96          12.33\n",
              "950   1950-03-01                2.36      183.67          12.39\n",
              "951   1950-04-01                2.38      188.86          12.49\n",
              "952   1950-05-01                2.40      194.39          12.54\n",
              "...          ...                 ...         ...            ...\n",
              "1763  2017-12-01                2.40     2700.13          49.59\n",
              "1764  2018-01-01                2.58     2811.96          49.68\n",
              "1765  2018-02-01                2.86     2714.34          49.81\n",
              "1766  2018-03-01                2.84     2705.82          50.06\n",
              "1767  2018-04-01                2.80     2642.19            NaN\n",
              "\n",
              "[820 rows x 4 columns]"
            ]
          },
          "metadata": {
            "tags": []
          },
          "execution_count": 9
        }
      ]
    },
    {
      "cell_type": "code",
      "metadata": {
        "colab": {
          "base_uri": "https://localhost:8080/"
        },
        "id": "QxzXHbLbE5UN",
        "outputId": "d24405b2-7ffa-4941-91e1-122a6e1936e5"
      },
      "source": [
        "data_frame.isna().sum()"
      ],
      "execution_count": 10,
      "outputs": [
        {
          "output_type": "execute_result",
          "data": {
            "text/plain": [
              "Date                  0\n",
              "Long Interest Rate    0\n",
              "Real Price            0\n",
              "Real Dividend         1\n",
              "dtype: int64"
            ]
          },
          "metadata": {
            "tags": []
          },
          "execution_count": 10
        }
      ]
    },
    {
      "cell_type": "code",
      "metadata": {
        "colab": {
          "base_uri": "https://localhost:8080/",
          "height": 516
        },
        "id": "OOTizYw9GMar",
        "outputId": "21a0f117-48ce-44ae-df2c-0ef2da3955bd"
      },
      "source": [
        "data_frame.fillna(method='ffill', inplace=True)\n",
        "data_frame"
      ],
      "execution_count": 11,
      "outputs": [
        {
          "output_type": "stream",
          "text": [
            "/usr/local/lib/python3.6/dist-packages/pandas/core/frame.py:4327: SettingWithCopyWarning: \n",
            "A value is trying to be set on a copy of a slice from a DataFrame\n",
            "\n",
            "See the caveats in the documentation: https://pandas.pydata.org/pandas-docs/stable/user_guide/indexing.html#returning-a-view-versus-a-copy\n",
            "  downcast=downcast,\n"
          ],
          "name": "stderr"
        },
        {
          "output_type": "execute_result",
          "data": {
            "text/html": [
              "<div>\n",
              "<style scoped>\n",
              "    .dataframe tbody tr th:only-of-type {\n",
              "        vertical-align: middle;\n",
              "    }\n",
              "\n",
              "    .dataframe tbody tr th {\n",
              "        vertical-align: top;\n",
              "    }\n",
              "\n",
              "    .dataframe thead th {\n",
              "        text-align: right;\n",
              "    }\n",
              "</style>\n",
              "<table border=\"1\" class=\"dataframe\">\n",
              "  <thead>\n",
              "    <tr style=\"text-align: right;\">\n",
              "      <th></th>\n",
              "      <th>Date</th>\n",
              "      <th>Long Interest Rate</th>\n",
              "      <th>Real Price</th>\n",
              "      <th>Real Dividend</th>\n",
              "    </tr>\n",
              "  </thead>\n",
              "  <tbody>\n",
              "    <tr>\n",
              "      <th>948</th>\n",
              "      <td>1950-01-01</td>\n",
              "      <td>2.32</td>\n",
              "      <td>179.46</td>\n",
              "      <td>12.23</td>\n",
              "    </tr>\n",
              "    <tr>\n",
              "      <th>949</th>\n",
              "      <td>1950-02-01</td>\n",
              "      <td>2.34</td>\n",
              "      <td>182.96</td>\n",
              "      <td>12.33</td>\n",
              "    </tr>\n",
              "    <tr>\n",
              "      <th>950</th>\n",
              "      <td>1950-03-01</td>\n",
              "      <td>2.36</td>\n",
              "      <td>183.67</td>\n",
              "      <td>12.39</td>\n",
              "    </tr>\n",
              "    <tr>\n",
              "      <th>951</th>\n",
              "      <td>1950-04-01</td>\n",
              "      <td>2.38</td>\n",
              "      <td>188.86</td>\n",
              "      <td>12.49</td>\n",
              "    </tr>\n",
              "    <tr>\n",
              "      <th>952</th>\n",
              "      <td>1950-05-01</td>\n",
              "      <td>2.40</td>\n",
              "      <td>194.39</td>\n",
              "      <td>12.54</td>\n",
              "    </tr>\n",
              "    <tr>\n",
              "      <th>...</th>\n",
              "      <td>...</td>\n",
              "      <td>...</td>\n",
              "      <td>...</td>\n",
              "      <td>...</td>\n",
              "    </tr>\n",
              "    <tr>\n",
              "      <th>1763</th>\n",
              "      <td>2017-12-01</td>\n",
              "      <td>2.40</td>\n",
              "      <td>2700.13</td>\n",
              "      <td>49.59</td>\n",
              "    </tr>\n",
              "    <tr>\n",
              "      <th>1764</th>\n",
              "      <td>2018-01-01</td>\n",
              "      <td>2.58</td>\n",
              "      <td>2811.96</td>\n",
              "      <td>49.68</td>\n",
              "    </tr>\n",
              "    <tr>\n",
              "      <th>1765</th>\n",
              "      <td>2018-02-01</td>\n",
              "      <td>2.86</td>\n",
              "      <td>2714.34</td>\n",
              "      <td>49.81</td>\n",
              "    </tr>\n",
              "    <tr>\n",
              "      <th>1766</th>\n",
              "      <td>2018-03-01</td>\n",
              "      <td>2.84</td>\n",
              "      <td>2705.82</td>\n",
              "      <td>50.06</td>\n",
              "    </tr>\n",
              "    <tr>\n",
              "      <th>1767</th>\n",
              "      <td>2018-04-01</td>\n",
              "      <td>2.80</td>\n",
              "      <td>2642.19</td>\n",
              "      <td>50.06</td>\n",
              "    </tr>\n",
              "  </tbody>\n",
              "</table>\n",
              "<p>820 rows × 4 columns</p>\n",
              "</div>"
            ],
            "text/plain": [
              "            Date  Long Interest Rate  Real Price  Real Dividend\n",
              "948   1950-01-01                2.32      179.46          12.23\n",
              "949   1950-02-01                2.34      182.96          12.33\n",
              "950   1950-03-01                2.36      183.67          12.39\n",
              "951   1950-04-01                2.38      188.86          12.49\n",
              "952   1950-05-01                2.40      194.39          12.54\n",
              "...          ...                 ...         ...            ...\n",
              "1763  2017-12-01                2.40     2700.13          49.59\n",
              "1764  2018-01-01                2.58     2811.96          49.68\n",
              "1765  2018-02-01                2.86     2714.34          49.81\n",
              "1766  2018-03-01                2.84     2705.82          50.06\n",
              "1767  2018-04-01                2.80     2642.19          50.06\n",
              "\n",
              "[820 rows x 4 columns]"
            ]
          },
          "metadata": {
            "tags": []
          },
          "execution_count": 11
        }
      ]
    },
    {
      "cell_type": "code",
      "metadata": {
        "id": "tz_hAZMXAjfD",
        "colab": {
          "base_uri": "https://localhost:8080/",
          "height": 534
        },
        "outputId": "d295f5cd-b147-4198-dddc-0e3a817ca532"
      },
      "source": [
        "data_frame['Real Price Label'] = data_frame['Real Price'].shift(-3)\n",
        "data_frame"
      ],
      "execution_count": 12,
      "outputs": [
        {
          "output_type": "stream",
          "text": [
            "/usr/local/lib/python3.6/dist-packages/ipykernel_launcher.py:1: SettingWithCopyWarning: \n",
            "A value is trying to be set on a copy of a slice from a DataFrame.\n",
            "Try using .loc[row_indexer,col_indexer] = value instead\n",
            "\n",
            "See the caveats in the documentation: https://pandas.pydata.org/pandas-docs/stable/user_guide/indexing.html#returning-a-view-versus-a-copy\n",
            "  \"\"\"Entry point for launching an IPython kernel.\n"
          ],
          "name": "stderr"
        },
        {
          "output_type": "execute_result",
          "data": {
            "text/html": [
              "<div>\n",
              "<style scoped>\n",
              "    .dataframe tbody tr th:only-of-type {\n",
              "        vertical-align: middle;\n",
              "    }\n",
              "\n",
              "    .dataframe tbody tr th {\n",
              "        vertical-align: top;\n",
              "    }\n",
              "\n",
              "    .dataframe thead th {\n",
              "        text-align: right;\n",
              "    }\n",
              "</style>\n",
              "<table border=\"1\" class=\"dataframe\">\n",
              "  <thead>\n",
              "    <tr style=\"text-align: right;\">\n",
              "      <th></th>\n",
              "      <th>Date</th>\n",
              "      <th>Long Interest Rate</th>\n",
              "      <th>Real Price</th>\n",
              "      <th>Real Dividend</th>\n",
              "      <th>Real Price Label</th>\n",
              "    </tr>\n",
              "  </thead>\n",
              "  <tbody>\n",
              "    <tr>\n",
              "      <th>948</th>\n",
              "      <td>1950-01-01</td>\n",
              "      <td>2.32</td>\n",
              "      <td>179.46</td>\n",
              "      <td>12.23</td>\n",
              "      <td>188.86</td>\n",
              "    </tr>\n",
              "    <tr>\n",
              "      <th>949</th>\n",
              "      <td>1950-02-01</td>\n",
              "      <td>2.34</td>\n",
              "      <td>182.96</td>\n",
              "      <td>12.33</td>\n",
              "      <td>194.39</td>\n",
              "    </tr>\n",
              "    <tr>\n",
              "      <th>950</th>\n",
              "      <td>1950-03-01</td>\n",
              "      <td>2.36</td>\n",
              "      <td>183.67</td>\n",
              "      <td>12.39</td>\n",
              "      <td>196.72</td>\n",
              "    </tr>\n",
              "    <tr>\n",
              "      <th>951</th>\n",
              "      <td>1950-04-01</td>\n",
              "      <td>2.38</td>\n",
              "      <td>188.86</td>\n",
              "      <td>12.49</td>\n",
              "      <td>180.17</td>\n",
              "    </tr>\n",
              "    <tr>\n",
              "      <th>952</th>\n",
              "      <td>1950-05-01</td>\n",
              "      <td>2.40</td>\n",
              "      <td>194.39</td>\n",
              "      <td>12.54</td>\n",
              "      <td>189.48</td>\n",
              "    </tr>\n",
              "    <tr>\n",
              "      <th>...</th>\n",
              "      <td>...</td>\n",
              "      <td>...</td>\n",
              "      <td>...</td>\n",
              "      <td>...</td>\n",
              "      <td>...</td>\n",
              "    </tr>\n",
              "    <tr>\n",
              "      <th>1763</th>\n",
              "      <td>2017-12-01</td>\n",
              "      <td>2.40</td>\n",
              "      <td>2700.13</td>\n",
              "      <td>49.59</td>\n",
              "      <td>2705.82</td>\n",
              "    </tr>\n",
              "    <tr>\n",
              "      <th>1764</th>\n",
              "      <td>2018-01-01</td>\n",
              "      <td>2.58</td>\n",
              "      <td>2811.96</td>\n",
              "      <td>49.68</td>\n",
              "      <td>2642.19</td>\n",
              "    </tr>\n",
              "    <tr>\n",
              "      <th>1765</th>\n",
              "      <td>2018-02-01</td>\n",
              "      <td>2.86</td>\n",
              "      <td>2714.34</td>\n",
              "      <td>49.81</td>\n",
              "      <td>NaN</td>\n",
              "    </tr>\n",
              "    <tr>\n",
              "      <th>1766</th>\n",
              "      <td>2018-03-01</td>\n",
              "      <td>2.84</td>\n",
              "      <td>2705.82</td>\n",
              "      <td>50.06</td>\n",
              "      <td>NaN</td>\n",
              "    </tr>\n",
              "    <tr>\n",
              "      <th>1767</th>\n",
              "      <td>2018-04-01</td>\n",
              "      <td>2.80</td>\n",
              "      <td>2642.19</td>\n",
              "      <td>50.06</td>\n",
              "      <td>NaN</td>\n",
              "    </tr>\n",
              "  </tbody>\n",
              "</table>\n",
              "<p>820 rows × 5 columns</p>\n",
              "</div>"
            ],
            "text/plain": [
              "            Date  Long Interest Rate  ...  Real Dividend  Real Price Label\n",
              "948   1950-01-01                2.32  ...          12.23            188.86\n",
              "949   1950-02-01                2.34  ...          12.33            194.39\n",
              "950   1950-03-01                2.36  ...          12.39            196.72\n",
              "951   1950-04-01                2.38  ...          12.49            180.17\n",
              "952   1950-05-01                2.40  ...          12.54            189.48\n",
              "...          ...                 ...  ...            ...               ...\n",
              "1763  2017-12-01                2.40  ...          49.59           2705.82\n",
              "1764  2018-01-01                2.58  ...          49.68           2642.19\n",
              "1765  2018-02-01                2.86  ...          49.81               NaN\n",
              "1766  2018-03-01                2.84  ...          50.06               NaN\n",
              "1767  2018-04-01                2.80  ...          50.06               NaN\n",
              "\n",
              "[820 rows x 5 columns]"
            ]
          },
          "metadata": {
            "tags": []
          },
          "execution_count": 12
        }
      ]
    },
    {
      "cell_type": "code",
      "metadata": {
        "id": "tN11lRrtAjb_",
        "colab": {
          "base_uri": "https://localhost:8080/"
        },
        "outputId": "65ed8bf2-2658-4e9a-c37b-ad0ae49ff803"
      },
      "source": [
        "features_temp = data_frame.drop(\"Date\",1)\n",
        "features = np.array(features_temp.drop('Real Price Label', 1))\n",
        "\n",
        "scaled_features = preprocessing.scale(features)\n",
        "scaled_features\n"
      ],
      "execution_count": 13,
      "outputs": [
        {
          "output_type": "execute_result",
          "data": {
            "text/plain": [
              "array([[-1.17918844, -1.16779909, -1.29588611],\n",
              "       [-1.17220065, -1.16202168, -1.28285017],\n",
              "       [-1.16521287, -1.16084969, -1.2750286 ],\n",
              "       ...,\n",
              "       [-0.99051829,  3.01650245,  3.60302319],\n",
              "       [-0.99750607,  3.00243857,  3.63561306],\n",
              "       [-1.01148164,  2.89740516,  3.63561306]])"
            ]
          },
          "metadata": {
            "tags": []
          },
          "execution_count": 13
        }
      ]
    },
    {
      "cell_type": "code",
      "metadata": {
        "id": "DfQMTWf6HjyN",
        "colab": {
          "base_uri": "https://localhost:8080/"
        },
        "outputId": "7601e229-7d61-4d6c-9cf6-d2fcdcbc41bc"
      },
      "source": [
        "scaled_features_l_3 = scaled_features[-3:]\n",
        "print(\"scaled features latest 3 : \", scaled_features_l_3)\n",
        "scaled_features = scaled_features[:-3]\n",
        "scaled_features"
      ],
      "execution_count": 26,
      "outputs": [
        {
          "output_type": "stream",
          "text": [
            "scaled features latest 3 :  [[-1.16870676  2.8721661   3.53653985]\n",
            " [-1.1512373   2.99304615  3.5743441 ]\n",
            " [-1.08834725  3.17764283  3.58607645]]\n"
          ],
          "name": "stdout"
        },
        {
          "output_type": "execute_result",
          "data": {
            "text/plain": [
              "array([[-1.17918844, -1.16779909, -1.29588611],\n",
              "       [-1.17220065, -1.16202168, -1.28285017],\n",
              "       [-1.16521287, -1.16084969, -1.2750286 ],\n",
              "       ...,\n",
              "       [-1.21762124,  2.66170311,  3.45702057],\n",
              "       [-1.22111514,  2.70117111,  3.46614573],\n",
              "       [-1.16521287,  2.81107406,  3.50394998]])"
            ]
          },
          "metadata": {
            "tags": []
          },
          "execution_count": 26
        }
      ]
    },
    {
      "cell_type": "code",
      "metadata": {
        "id": "SfY88-n1HjvN",
        "colab": {
          "base_uri": "https://localhost:8080/",
          "height": 516
        },
        "outputId": "4637f09c-591c-46d0-9d99-83aa36c6f4bf"
      },
      "source": [
        "data_frame.dropna(inplace=True)\n",
        "data_frame"
      ],
      "execution_count": 15,
      "outputs": [
        {
          "output_type": "stream",
          "text": [
            "/usr/local/lib/python3.6/dist-packages/ipykernel_launcher.py:1: SettingWithCopyWarning: \n",
            "A value is trying to be set on a copy of a slice from a DataFrame\n",
            "\n",
            "See the caveats in the documentation: https://pandas.pydata.org/pandas-docs/stable/user_guide/indexing.html#returning-a-view-versus-a-copy\n",
            "  \"\"\"Entry point for launching an IPython kernel.\n"
          ],
          "name": "stderr"
        },
        {
          "output_type": "execute_result",
          "data": {
            "text/html": [
              "<div>\n",
              "<style scoped>\n",
              "    .dataframe tbody tr th:only-of-type {\n",
              "        vertical-align: middle;\n",
              "    }\n",
              "\n",
              "    .dataframe tbody tr th {\n",
              "        vertical-align: top;\n",
              "    }\n",
              "\n",
              "    .dataframe thead th {\n",
              "        text-align: right;\n",
              "    }\n",
              "</style>\n",
              "<table border=\"1\" class=\"dataframe\">\n",
              "  <thead>\n",
              "    <tr style=\"text-align: right;\">\n",
              "      <th></th>\n",
              "      <th>Date</th>\n",
              "      <th>Long Interest Rate</th>\n",
              "      <th>Real Price</th>\n",
              "      <th>Real Dividend</th>\n",
              "      <th>Real Price Label</th>\n",
              "    </tr>\n",
              "  </thead>\n",
              "  <tbody>\n",
              "    <tr>\n",
              "      <th>948</th>\n",
              "      <td>1950-01-01</td>\n",
              "      <td>2.32</td>\n",
              "      <td>179.46</td>\n",
              "      <td>12.23</td>\n",
              "      <td>188.86</td>\n",
              "    </tr>\n",
              "    <tr>\n",
              "      <th>949</th>\n",
              "      <td>1950-02-01</td>\n",
              "      <td>2.34</td>\n",
              "      <td>182.96</td>\n",
              "      <td>12.33</td>\n",
              "      <td>194.39</td>\n",
              "    </tr>\n",
              "    <tr>\n",
              "      <th>950</th>\n",
              "      <td>1950-03-01</td>\n",
              "      <td>2.36</td>\n",
              "      <td>183.67</td>\n",
              "      <td>12.39</td>\n",
              "      <td>196.72</td>\n",
              "    </tr>\n",
              "    <tr>\n",
              "      <th>951</th>\n",
              "      <td>1950-04-01</td>\n",
              "      <td>2.38</td>\n",
              "      <td>188.86</td>\n",
              "      <td>12.49</td>\n",
              "      <td>180.17</td>\n",
              "    </tr>\n",
              "    <tr>\n",
              "      <th>952</th>\n",
              "      <td>1950-05-01</td>\n",
              "      <td>2.40</td>\n",
              "      <td>194.39</td>\n",
              "      <td>12.54</td>\n",
              "      <td>189.48</td>\n",
              "    </tr>\n",
              "    <tr>\n",
              "      <th>...</th>\n",
              "      <td>...</td>\n",
              "      <td>...</td>\n",
              "      <td>...</td>\n",
              "      <td>...</td>\n",
              "      <td>...</td>\n",
              "    </tr>\n",
              "    <tr>\n",
              "      <th>1760</th>\n",
              "      <td>2017-09-01</td>\n",
              "      <td>2.20</td>\n",
              "      <td>2523.31</td>\n",
              "      <td>48.76</td>\n",
              "      <td>2700.13</td>\n",
              "    </tr>\n",
              "    <tr>\n",
              "      <th>1761</th>\n",
              "      <td>2017-10-01</td>\n",
              "      <td>2.36</td>\n",
              "      <td>2589.89</td>\n",
              "      <td>49.05</td>\n",
              "      <td>2811.96</td>\n",
              "    </tr>\n",
              "    <tr>\n",
              "      <th>1762</th>\n",
              "      <td>2017-11-01</td>\n",
              "      <td>2.35</td>\n",
              "      <td>2626.90</td>\n",
              "      <td>49.30</td>\n",
              "      <td>2714.34</td>\n",
              "    </tr>\n",
              "    <tr>\n",
              "      <th>1763</th>\n",
              "      <td>2017-12-01</td>\n",
              "      <td>2.40</td>\n",
              "      <td>2700.13</td>\n",
              "      <td>49.59</td>\n",
              "      <td>2705.82</td>\n",
              "    </tr>\n",
              "    <tr>\n",
              "      <th>1764</th>\n",
              "      <td>2018-01-01</td>\n",
              "      <td>2.58</td>\n",
              "      <td>2811.96</td>\n",
              "      <td>49.68</td>\n",
              "      <td>2642.19</td>\n",
              "    </tr>\n",
              "  </tbody>\n",
              "</table>\n",
              "<p>817 rows × 5 columns</p>\n",
              "</div>"
            ],
            "text/plain": [
              "            Date  Long Interest Rate  ...  Real Dividend  Real Price Label\n",
              "948   1950-01-01                2.32  ...          12.23            188.86\n",
              "949   1950-02-01                2.34  ...          12.33            194.39\n",
              "950   1950-03-01                2.36  ...          12.39            196.72\n",
              "951   1950-04-01                2.38  ...          12.49            180.17\n",
              "952   1950-05-01                2.40  ...          12.54            189.48\n",
              "...          ...                 ...  ...            ...               ...\n",
              "1760  2017-09-01                2.20  ...          48.76           2700.13\n",
              "1761  2017-10-01                2.36  ...          49.05           2811.96\n",
              "1762  2017-11-01                2.35  ...          49.30           2714.34\n",
              "1763  2017-12-01                2.40  ...          49.59           2705.82\n",
              "1764  2018-01-01                2.58  ...          49.68           2642.19\n",
              "\n",
              "[817 rows x 5 columns]"
            ]
          },
          "metadata": {
            "tags": []
          },
          "execution_count": 15
        }
      ]
    },
    {
      "cell_type": "code",
      "metadata": {
        "id": "RSlCFjtgHjsN",
        "colab": {
          "base_uri": "https://localhost:8080/"
        },
        "outputId": "612d1b18-81be-4b9a-dbc4-948114c6fc7a"
      },
      "source": [
        "label = np.array(data_frame['Real Price Label'])\n",
        "label"
      ],
      "execution_count": 16,
      "outputs": [
        {
          "output_type": "execute_result",
          "data": {
            "text/plain": [
              "array([ 188.86,  194.39,  196.72,  180.17,  189.48,  195.36,  201.8 ,\n",
              "        200.58,  197.37,  208.62,  213.87,  209.46,  212.26,  211.54,\n",
              "        207.87,  211.54,  220.8 ,  224.76,  222.75,  214.92,  220.7 ,\n",
              "        228.06,  225.61,  226.18,  224.66,  224.57,  229.85,  234.68,\n",
              "        235.61,  231.87,  227.  ,  234.21,  243.66,  245.89,  243.8 ,\n",
              "        244.11,  232.08,  232.43,  223.27,  226.44,  226.52,  216.12,\n",
              "        221.8 ,  227.55,  230.61,  236.46,  241.66,  246.77,  257.57,\n",
              "        266.83,  268.97,  279.83,  285.41,  293.18,  299.99,  311.74,\n",
              "        327.22,  333.11,  344.25,  341.54,  353.33,  351.83,  372.23,\n",
              "        397.97,  395.54,  411.81,  391.1 ,  417.48,  422.95,  411.58,\n",
              "        414.19,  442.71,  446.27,  430.64,  425.  ,  444.78,  443.76,\n",
              "        427.09,  420.09,  415.73,  420.38,  411.23,  392.07,  395.69,\n",
              "        403.41,  417.4 ,  422.76,  428.25,  404.68,  388.26,  364.07,\n",
              "        354.96,  354.78,  359.2 ,  360.43,  365.3 ,  366.02,  377.78,\n",
              "        386.86,  396.12,  412.36,  423.25,  440.45,  452.29,  462.41,\n",
              "        479.17,  473.48,  485.49,  491.92,  499.33,  493.32,  511.14,\n",
              "        508.23,  486.45,  484.37,  486.33,  501.88,  494.81,  474.01,\n",
              "        467.55,  471.98,  467.66,  483.3 ,  471.31,  476.97,  462.62,\n",
              "        450.46,  465.05,  476.2 ,  500.68,  521.22,  537.57,  551.9 ,\n",
              "        557.52,  550.14,  544.97,  566.43,  560.13,  566.29,  591.94,\n",
              "        597.44,  575.2 ,  582.84,  583.42,  562.96,  521.1 ,  460.21,\n",
              "        469.74,  482.52,  476.66,  461.62,  493.43,  514.79,  534.68,\n",
              "        541.75,  537.92,  563.24,  574.54,  572.42,  562.09,  577.63,\n",
              "        592.85,  592.39,  589.06,  599.69,  618.12,  625.72,  637.12,\n",
              "        646.34,  652.64,  646.67,  668.53,  660.86,  670.06,  681.63,\n",
              "        684.16,  672.31,  689.61,  694.65,  693.07,  699.94,  710.36,\n",
              "        672.34,  671.31,  683.81,  706.65,  720.27,  726.26,  720.67,\n",
              "        733.17,  723.66,  691.76,  708.51,  671.23,  663.61,  659.87,\n",
              "        616.18,  594.49,  585.71,  615.02,  617.6 ,  641.3 ,  663.39,\n",
              "        676.98,  686.56,  696.76,  685.96,  695.72,  704.69,  712.4 ,\n",
              "        709.18,  684.9 ,  702.34,  696.32,  662.94,  648.92,  694.82,\n",
              "        708.74,  723.59,  718.01,  700.32,  721.04,  734.64,  743.86,\n",
              "        749.51,  715.82,  708.33,  687.22,  697.2 ,  717.93,  676.74,\n",
              "        642.99,  635.93,  636.44,  639.79,  640.98,  603.78,  596.9 ,\n",
              "        573.04,  579.79,  557.75,  492.29,  486.73,  485.07,  499.16,\n",
              "        526.31,  534.99,  531.72,  565.27,  586.86,  608.06,  622.09,\n",
              "        641.72,  629.86,  613.64,  607.71,  595.44,  608.67,  594.29,\n",
              "        566.74,  602.83,  627.93,  636.38,  649.93,  654.99,  646.81,\n",
              "        647.06,  639.2 ,  660.28,  649.22,  647.33,  678.21,  690.72,\n",
              "        694.38,  665.06,  648.53,  632.04,  610.08,  592.37,  596.67,\n",
              "        575.01,  583.69,  601.58,  555.19,  512.54,  515.27,  494.64,\n",
              "        509.29,  481.25,  460.96,  457.81,  401.1 ,  379.9 ,  336.34,\n",
              "        339.5 ,  348.02,  322.86,  347.95,  381.18,  397.18,  400.11,\n",
              "        423.12,  430.69,  426.33,  394.35,  387.43,  403.06,  406.92,\n",
              "        399.29,  435.24,  450.42,  451.85,  453.8 ,  447.49,  447.77,\n",
              "        455.92,  449.62,  457.6 ,  439.69,  435.92,  449.45,  443.3 ,\n",
              "        426.96,  422.41,  412.44,  409.18,  408.67,  410.39,  399.04,\n",
              "        391.56,  380.19,  380.52,  377.45,  360.76,  353.42,  350.01,\n",
              "        362.48,  377.31,  374.22,  369.58,  393.3 ,  390.34,  374.57,\n",
              "        351.07,  354.68,  364.73,  355.16,  358.29,  361.31,  348.48,\n",
              "        351.43,  351.  ,  363.58,  363.7 ,  347.18,  341.34,  351.14,\n",
              "        356.13,  365.1 ,  326.56,  317.69,  328.94,  346.2 ,  361.91,\n",
              "        370.4 ,  376.24,  383.59,  396.52,  386.48,  381.93,  364.95,\n",
              "        376.02,  376.86,  366.41,  364.83,  352.12,  350.8 ,  317.12,\n",
              "        320.45,  327.69,  329.04,  310.77,  302.39,  292.93,  306.17,\n",
              "        303.56,  282.55,  280.33,  280.52,  312.36,  337.61,  352.06,\n",
              "        356.83,  368.62,  374.63,  387.64,  399.58,  413.29,  417.82,\n",
              "        417.64,  404.92,  414.82,  414.83,  407.83,  405.46,  407.97,\n",
              "        383.78,  383.28,  381.9 ,  378.38,  368.85,  362.63,  393.04,\n",
              "        395.22,  391.01,  394.56,  390.29,  406.37,  426.37,  421.25,\n",
              "        422.08,  430.52,  438.61,  446.13,  435.59,  424.7 ,  427.96,\n",
              "        452.68,  473.84,  474.6 ,  501.5 ,  533.43,  547.52,  547.16,\n",
              "        559.68,  548.04,  557.97,  540.25,  537.72,  554.66,  562.07,\n",
              "        594.26,  628.84,  651.89,  641.33,  638.62,  663.44,  680.79,\n",
              "        719.37,  692.37,  607.15,  530.41,  521.75,  540.91,  555.88,\n",
              "        569.8 ,  560.26,  544.54,  573.14,  567.35,  553.63,  558.9 ,\n",
              "        576.58,  562.8 ,  573.27,  588.79,  604.04,  597.93,  613.53,\n",
              "        633.47,  651.67,  666.56,  694.97,  694.14,  691.03,  675.09,\n",
              "        690.66,  666.69,  644.99,  657.03,  655.46,  677.28,  693.13,\n",
              "        689.79,  627.91,  593.83,  574.75,  588.72,  613.85,  604.15,\n",
              "        671.41,  688.95,  701.61,  696.43,  694.93,  697.47,  712.2 ,\n",
              "        705.08,  703.47,  699.68,  703.87,  752.73,  743.67,  730.6 ,\n",
              "        729.65,  741.83,  727.53,  738.04,  741.05,  739.92,  726.78,\n",
              "        743.95,  767.01,  762.52,  771.16,  783.19,  768.73,  771.42,\n",
              "        775.22,  773.88,  783.55,  790.73,  795.46,  793.18,  798.43,\n",
              "        808.27,  803.12,  787.2 ,  758.03,  763.73,  767.79,  759.94,\n",
              "        778.41,  780.88,  775.09,  769.38,  759.67,  773.36,  797.88,\n",
              "        813.78,  835.38,  859.83,  883.6 ,  913.12,  913.57,  943.85,\n",
              "        947.52,  968.65, 1000.27,  994.2 , 1047.63, 1038.29, 1034.46,\n",
              "       1054.91, 1065.83, 1024.91, 1052.52, 1068.5 , 1107.07, 1158.87,\n",
              "       1170.81, 1203.2 , 1249.79, 1236.94, 1191.37, 1300.03, 1365.74,\n",
              "       1440.31, 1440.66, 1452.24, 1470.5 , 1452.48, 1490.6 , 1489.37,\n",
              "       1579.78, 1658.63, 1709.95, 1701.  , 1698.87, 1770.56, 1643.07,\n",
              "       1558.63, 1572.85, 1743.41, 1814.01, 1898.89, 1893.25, 1940.63,\n",
              "       2006.44, 2002.4 , 1988.09, 2069.71, 1984.76, 1961.44, 1930.97,\n",
              "       2064.89, 2120.83, 2109.97, 2043.52, 2104.65, 2131.35, 2066.39,\n",
              "       2118.62, 2129.67, 2147.69, 2111.52, 1996.01, 1977.5 , 1911.  ,\n",
              "       1905.7 , 1855.65, 1681.43, 1680.41, 1786.06, 1738.62, 1695.29,\n",
              "       1658.77, 1463.76, 1513.62, 1590.95, 1618.81, 1608.5 , 1546.61,\n",
              "       1612.18, 1545.05, 1499.64, 1408.22, 1253.46, 1261.69, 1197.84,\n",
              "       1177.7 , 1253.9 , 1241.83, 1231.77, 1142.11, 1148.31, 1209.8 ,\n",
              "       1274.31, 1343.7 , 1348.41, 1339.22, 1375.23, 1402.77, 1421.69,\n",
              "       1464.91, 1527.77, 1534.11, 1498.45, 1506.14, 1456.97, 1491.85,\n",
              "       1458.71, 1435.65, 1470.41, 1462.12, 1529.02, 1574.38, 1547.76,\n",
              "       1562.62, 1544.38, 1494.94, 1514.28, 1544.29, 1562.74, 1557.36,\n",
              "       1540.64, 1494.95, 1564.47, 1602.18, 1611.05, 1605.2 , 1617.73,\n",
              "       1614.53, 1591.56, 1543.06, 1547.19, 1577.12, 1622.56, 1687.91,\n",
              "       1721.74, 1753.58, 1757.79, 1773.78, 1711.72, 1769.2 , 1815.52,\n",
              "       1815.67, 1823.95, 1747.89, 1794.01, 1841.05, 1739.52, 1759.52,\n",
              "       1631.91, 1598.99, 1540.87, 1593.83, 1618.29, 1531.39, 1428.08,\n",
              "       1461.33, 1389.68, 1117.59, 1038.55, 1042.89, 1024.2 ,  948.08,\n",
              "        889.28,  993.71, 1054.23, 1072.72, 1085.67, 1168.8 , 1208.35,\n",
              "       1233.89, 1256.59, 1284.62, 1295.46, 1255.47, 1322.53, 1372.11,\n",
              "       1288.31, 1241.77, 1237.43, 1244.28, 1283.36, 1338.31, 1368.93,\n",
              "       1415.18, 1455.09, 1491.41, 1458.42, 1479.1 , 1479.69, 1424.81,\n",
              "       1465.46, 1307.17, 1292.6 , 1332.06, 1354.39, 1376.45, 1433.53,\n",
              "       1484.21, 1513.05, 1505.44, 1458.12, 1440.89, 1482.83, 1521.98,\n",
              "       1558.37, 1552.93, 1513.32, 1547.63, 1606.12, 1627.41, 1664.51,\n",
              "       1687.59, 1758.74, 1731.99, 1784.69, 1784.05, 1800.2 , 1840.  ,\n",
              "       1911.84, 1937.99, 1946.38, 1933.55, 1970.32, 1964.63, 1984.58,\n",
              "       2040.98, 2069.05, 2060.36, 2092.08, 2038.46, 2163.05, 2185.7 ,\n",
              "       2168.15, 2216.27, 2200.82, 2212.06, 2218.78, 2197.79, 2192.26,\n",
              "       2138.47, 2041.58, 2126.95, 2190.2 , 2169.67, 2023.23, 2006.62,\n",
              "       2121.32, 2167.27, 2148.15, 2160.13, 2231.13, 2251.95, 2232.83,\n",
              "       2214.89, 2241.08, 2324.83, 2340.67, 2389.52, 2425.4 , 2410.56,\n",
              "       2445.29, 2482.48, 2504.72, 2499.4 , 2523.31, 2589.89, 2626.9 ,\n",
              "       2700.13, 2811.96, 2714.34, 2705.82, 2642.19])"
            ]
          },
          "metadata": {
            "tags": []
          },
          "execution_count": 16
        }
      ]
    },
    {
      "cell_type": "code",
      "metadata": {
        "id": "NU8zZjSuF5a3"
      },
      "source": [
        "(features_train, features_test, label_train, label_test) = model_selection.train_test_split(scaled_features, label, test_size=0.15, random_state = 7)\n"
      ],
      "execution_count": 18,
      "outputs": []
    },
    {
      "cell_type": "code",
      "metadata": {
        "colab": {
          "base_uri": "https://localhost:8080/"
        },
        "id": "nWWYGKXmF5YI",
        "outputId": "9d3f0b41-007c-48cb-8eb7-f9ea28518862"
      },
      "source": [
        "model = linear_model.LinearRegression()\n",
        "model.fit(features_train, label_train)"
      ],
      "execution_count": 20,
      "outputs": [
        {
          "output_type": "execute_result",
          "data": {
            "text/plain": [
              "LinearRegression(copy_X=True, fit_intercept=True, n_jobs=None, normalize=False)"
            ]
          },
          "metadata": {
            "tags": []
          },
          "execution_count": 20
        }
      ]
    },
    {
      "cell_type": "code",
      "metadata": {
        "colab": {
          "base_uri": "https://localhost:8080/"
        },
        "id": "qT-9ktZhF5VZ",
        "outputId": "4211b624-b57e-4ab2-ce69-9f624ef70f1d"
      },
      "source": [
        "model.score(features_test, label_test)"
      ],
      "execution_count": 21,
      "outputs": [
        {
          "output_type": "execute_result",
          "data": {
            "text/plain": [
              "0.9924279387756088"
            ]
          },
          "metadata": {
            "tags": []
          },
          "execution_count": 21
        }
      ]
    },
    {
      "cell_type": "code",
      "metadata": {
        "colab": {
          "base_uri": "https://localhost:8080/"
        },
        "id": "r80i996OF5Sq",
        "outputId": "5983f6e4-ddc9-4c5f-dab3-d3e0bde07a52"
      },
      "source": [
        "prediction = model.predict(features_test)\n",
        "prediction"
      ],
      "execution_count": 23,
      "outputs": [
        {
          "output_type": "execute_result",
          "data": {
            "text/plain": [
              "array([2050.62562984, 2212.0886232 , 2486.21092184, 1348.6560865 ,\n",
              "       1759.46285818,  484.17021218, 1254.62942593,  241.31579757,\n",
              "        328.9330409 ,  363.2335799 ,  368.42040733, 1572.37381026,\n",
              "        571.24957908, 1684.78802698, 1825.42537344,  489.6826329 ,\n",
              "       2084.21148657, 1508.75109481,  372.29828927,  556.58236675,\n",
              "        312.37340087,  299.14679584,  678.11519433,  562.26769969,\n",
              "        766.59447651,  276.44162675,  656.44702433, 1324.65616443,\n",
              "        524.42072266, 1299.78849765, 1610.75177487,  683.76026458,\n",
              "        713.31342175,  751.79182283,  584.6869921 ,  341.9156405 ,\n",
              "       2054.34724246,  801.69054557,  501.3899695 ,  549.71365112,\n",
              "        452.99257626,  426.70690318,  719.06439276,  600.48633078,\n",
              "        352.0340646 ,  746.78077123,  343.5684728 ,  388.1186634 ,\n",
              "        580.23533313,  387.18549893,  632.87200083,  322.89715879,\n",
              "        528.426579  , 2090.76048825,  562.33541062,  360.95450889,\n",
              "       1691.42194739,  225.0749296 , 1553.04507471,  653.61217649,\n",
              "       2545.67248336, 2738.9346382 , 2203.45623532,  626.46772076,\n",
              "       2276.81221459,  577.29951574,  324.27116047, 1506.96814902,\n",
              "        631.20705815,  542.95554686, 1276.79871542,  615.33597808,\n",
              "       1972.64042975, 1898.46510871,  564.67091763, 1463.5172308 ,\n",
              "        682.92682286,  614.9613184 ,  244.65927732,  353.39340593,\n",
              "       1551.8164176 , 2097.9069148 ,  770.54815805,  698.93827491,\n",
              "        373.9760942 ,  224.05626739,  396.23793744,  341.08656348,\n",
              "        235.18479014, 1058.12970032,  761.22833953, 1270.68851522,\n",
              "       1652.72565239,  474.64282843,  307.73976263, 1572.81314288,\n",
              "        405.87504345, 1466.93217082, 1480.32427184, 1564.42997358,\n",
              "       1578.20581872,  482.62155068,  600.64036755, 1205.18119404,\n",
              "        342.37993901,  287.3446375 ,  388.33268964, 2250.9841286 ,\n",
              "       1244.58078188, 1374.43915871,  732.62759345,  573.44499726,\n",
              "        489.26782725,  470.83325213, 1653.09337131,  456.22847631,\n",
              "       1298.48946094,  804.61106597,  663.07236911, 1068.63910847,\n",
              "        774.63987211, 2465.4881417 ,  366.18914235])"
            ]
          },
          "metadata": {
            "tags": []
          },
          "execution_count": 23
        }
      ]
    },
    {
      "cell_type": "code",
      "metadata": {
        "colab": {
          "base_uri": "https://localhost:8080/"
        },
        "id": "mh2wOIIlF5QF",
        "outputId": "0378e3fc-3aef-4967-8b60-4b351047ef24"
      },
      "source": [
        "predict = model.predict(scaled_features_l_3)\n",
        "predict"
      ],
      "execution_count": 25,
      "outputs": [
        {
          "output_type": "execute_result",
          "data": {
            "text/plain": [
              "array([2752.47253433, 2744.80858144, 2682.76302154])"
            ]
          },
          "metadata": {
            "tags": []
          },
          "execution_count": 25
        }
      ]
    },
    {
      "cell_type": "code",
      "metadata": {
        "id": "eGUgDsb3F5M9"
      },
      "source": [
        ""
      ],
      "execution_count": null,
      "outputs": []
    },
    {
      "cell_type": "code",
      "metadata": {
        "id": "hpw9R8WWF5Ke"
      },
      "source": [
        ""
      ],
      "execution_count": null,
      "outputs": []
    }
  ]
}