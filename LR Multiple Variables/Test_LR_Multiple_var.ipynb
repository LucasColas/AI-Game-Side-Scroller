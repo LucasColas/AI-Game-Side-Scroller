{
  "nbformat": 4,
  "nbformat_minor": 0,
  "metadata": {
    "colab": {
      "name": "Test LR Multiple var.ipynb",
      "provenance": [],
      "collapsed_sections": [],
      "authorship_tag": "ABX9TyOKVcnWxBjxPSuW5/BJInTL",
      "include_colab_link": true
    },
    "kernelspec": {
      "name": "python3",
      "display_name": "Python 3"
    }
  },
  "cells": [
    {
      "cell_type": "markdown",
      "metadata": {
        "id": "view-in-github",
        "colab_type": "text"
      },
      "source": [
        "<a href=\"https://colab.research.google.com/github/LucasColas/AI-Game-Side-Scroller/blob/master/LR%20Multiple%20Variables/Test_LR_Multiple_var.ipynb\" target=\"_parent\"><img src=\"https://colab.research.google.com/assets/colab-badge.svg\" alt=\"Open In Colab\"/></a>"
      ]
    },
    {
      "cell_type": "code",
      "metadata": {
        "colab": {
          "base_uri": "https://localhost:8080/"
        },
        "id": "b_QAjsk4eprL",
        "outputId": "abb11ec3-2748-4253-f3d1-e906fc6b7492"
      },
      "source": [
        "!pip install yfinance"
      ],
      "execution_count": null,
      "outputs": [
        {
          "output_type": "stream",
          "text": [
            "Collecting yfinance\n",
            "  Downloading https://files.pythonhosted.org/packages/7a/e8/b9d7104d3a4bf39924799067592d9e59119fcfc900a425a12e80a3123ec8/yfinance-0.1.55.tar.gz\n",
            "Requirement already satisfied: pandas>=0.24 in /usr/local/lib/python3.6/dist-packages (from yfinance) (1.1.4)\n",
            "Requirement already satisfied: numpy>=1.15 in /usr/local/lib/python3.6/dist-packages (from yfinance) (1.18.5)\n",
            "Requirement already satisfied: requests>=2.20 in /usr/local/lib/python3.6/dist-packages (from yfinance) (2.23.0)\n",
            "Requirement already satisfied: multitasking>=0.0.7 in /usr/local/lib/python3.6/dist-packages (from yfinance) (0.0.9)\n",
            "Collecting lxml>=4.5.1\n",
            "\u001b[?25l  Downloading https://files.pythonhosted.org/packages/bd/78/56a7c88a57d0d14945472535d0df9fb4bbad7d34ede658ec7961635c790e/lxml-4.6.2-cp36-cp36m-manylinux1_x86_64.whl (5.5MB)\n",
            "\u001b[K     |████████████████████████████████| 5.5MB 6.9MB/s \n",
            "\u001b[?25hRequirement already satisfied: pytz>=2017.2 in /usr/local/lib/python3.6/dist-packages (from pandas>=0.24->yfinance) (2018.9)\n",
            "Requirement already satisfied: python-dateutil>=2.7.3 in /usr/local/lib/python3.6/dist-packages (from pandas>=0.24->yfinance) (2.8.1)\n",
            "Requirement already satisfied: chardet<4,>=3.0.2 in /usr/local/lib/python3.6/dist-packages (from requests>=2.20->yfinance) (3.0.4)\n",
            "Requirement already satisfied: certifi>=2017.4.17 in /usr/local/lib/python3.6/dist-packages (from requests>=2.20->yfinance) (2020.11.8)\n",
            "Requirement already satisfied: urllib3!=1.25.0,!=1.25.1,<1.26,>=1.21.1 in /usr/local/lib/python3.6/dist-packages (from requests>=2.20->yfinance) (1.24.3)\n",
            "Requirement already satisfied: idna<3,>=2.5 in /usr/local/lib/python3.6/dist-packages (from requests>=2.20->yfinance) (2.10)\n",
            "Requirement already satisfied: six>=1.5 in /usr/local/lib/python3.6/dist-packages (from python-dateutil>=2.7.3->pandas>=0.24->yfinance) (1.15.0)\n",
            "Building wheels for collected packages: yfinance\n",
            "  Building wheel for yfinance (setup.py) ... \u001b[?25l\u001b[?25hdone\n",
            "  Created wheel for yfinance: filename=yfinance-0.1.55-py2.py3-none-any.whl size=22618 sha256=a905d5c0c745e09ca1733ae898dd2ced23837e7870e6ee1999f0e1881493b07f\n",
            "  Stored in directory: /root/.cache/pip/wheels/04/98/cc/2702a4242d60bdc14f48b4557c427ded1fe92aedf257d4565c\n",
            "Successfully built yfinance\n",
            "Installing collected packages: lxml, yfinance\n",
            "  Found existing installation: lxml 4.2.6\n",
            "    Uninstalling lxml-4.2.6:\n",
            "      Successfully uninstalled lxml-4.2.6\n",
            "Successfully installed lxml-4.6.2 yfinance-0.1.55\n"
          ],
          "name": "stdout"
        }
      ]
    },
    {
      "cell_type": "code",
      "metadata": {
        "id": "BfdPRbuie2OT"
      },
      "source": [
        "import yfinance as yahoo\n",
        "import matplotlib.pyplot as plt"
      ],
      "execution_count": null,
      "outputs": []
    },
    {
      "cell_type": "code",
      "metadata": {
        "colab": {
          "base_uri": "https://localhost:8080/"
        },
        "id": "7CgvbnWpe3UJ",
        "outputId": "9dacfcd1-dae9-49cf-b1bd-4d9cea0c26ac"
      },
      "source": [
        "df = yahoo.download(\"^GSPC\", \"2015-01-01\", \"2020-11-11\")"
      ],
      "execution_count": null,
      "outputs": [
        {
          "output_type": "stream",
          "text": [
            "\r[*********************100%***********************]  1 of 1 completed\n"
          ],
          "name": "stdout"
        }
      ]
    },
    {
      "cell_type": "code",
      "metadata": {
        "colab": {
          "base_uri": "https://localhost:8080/",
          "height": 455
        },
        "id": "4zs60_uZe3Rp",
        "outputId": "947fc869-69a8-4d38-c9b4-d5865c7aff22"
      },
      "source": [
        "df"
      ],
      "execution_count": null,
      "outputs": [
        {
          "output_type": "execute_result",
          "data": {
            "text/html": [
              "<div>\n",
              "<style scoped>\n",
              "    .dataframe tbody tr th:only-of-type {\n",
              "        vertical-align: middle;\n",
              "    }\n",
              "\n",
              "    .dataframe tbody tr th {\n",
              "        vertical-align: top;\n",
              "    }\n",
              "\n",
              "    .dataframe thead th {\n",
              "        text-align: right;\n",
              "    }\n",
              "</style>\n",
              "<table border=\"1\" class=\"dataframe\">\n",
              "  <thead>\n",
              "    <tr style=\"text-align: right;\">\n",
              "      <th></th>\n",
              "      <th>Open</th>\n",
              "      <th>High</th>\n",
              "      <th>Low</th>\n",
              "      <th>Close</th>\n",
              "      <th>Adj Close</th>\n",
              "      <th>Volume</th>\n",
              "    </tr>\n",
              "    <tr>\n",
              "      <th>Date</th>\n",
              "      <th></th>\n",
              "      <th></th>\n",
              "      <th></th>\n",
              "      <th></th>\n",
              "      <th></th>\n",
              "      <th></th>\n",
              "    </tr>\n",
              "  </thead>\n",
              "  <tbody>\n",
              "    <tr>\n",
              "      <th>2015-01-02</th>\n",
              "      <td>2058.899902</td>\n",
              "      <td>2072.360107</td>\n",
              "      <td>2046.040039</td>\n",
              "      <td>2058.199951</td>\n",
              "      <td>2058.199951</td>\n",
              "      <td>2708700000</td>\n",
              "    </tr>\n",
              "    <tr>\n",
              "      <th>2015-01-05</th>\n",
              "      <td>2054.439941</td>\n",
              "      <td>2054.439941</td>\n",
              "      <td>2017.339966</td>\n",
              "      <td>2020.579956</td>\n",
              "      <td>2020.579956</td>\n",
              "      <td>3799120000</td>\n",
              "    </tr>\n",
              "    <tr>\n",
              "      <th>2015-01-06</th>\n",
              "      <td>2022.150024</td>\n",
              "      <td>2030.250000</td>\n",
              "      <td>1992.439941</td>\n",
              "      <td>2002.609985</td>\n",
              "      <td>2002.609985</td>\n",
              "      <td>4460110000</td>\n",
              "    </tr>\n",
              "    <tr>\n",
              "      <th>2015-01-07</th>\n",
              "      <td>2005.550049</td>\n",
              "      <td>2029.609985</td>\n",
              "      <td>2005.550049</td>\n",
              "      <td>2025.900024</td>\n",
              "      <td>2025.900024</td>\n",
              "      <td>3805480000</td>\n",
              "    </tr>\n",
              "    <tr>\n",
              "      <th>2015-01-08</th>\n",
              "      <td>2030.609985</td>\n",
              "      <td>2064.080078</td>\n",
              "      <td>2030.609985</td>\n",
              "      <td>2062.139893</td>\n",
              "      <td>2062.139893</td>\n",
              "      <td>3934010000</td>\n",
              "    </tr>\n",
              "    <tr>\n",
              "      <th>...</th>\n",
              "      <td>...</td>\n",
              "      <td>...</td>\n",
              "      <td>...</td>\n",
              "      <td>...</td>\n",
              "      <td>...</td>\n",
              "      <td>...</td>\n",
              "    </tr>\n",
              "    <tr>\n",
              "      <th>2020-11-04</th>\n",
              "      <td>3406.459961</td>\n",
              "      <td>3486.250000</td>\n",
              "      <td>3405.169922</td>\n",
              "      <td>3443.439941</td>\n",
              "      <td>3443.439941</td>\n",
              "      <td>4783040000</td>\n",
              "    </tr>\n",
              "    <tr>\n",
              "      <th>2020-11-05</th>\n",
              "      <td>3485.739990</td>\n",
              "      <td>3529.050049</td>\n",
              "      <td>3485.739990</td>\n",
              "      <td>3510.449951</td>\n",
              "      <td>3510.449951</td>\n",
              "      <td>4841190000</td>\n",
              "    </tr>\n",
              "    <tr>\n",
              "      <th>2020-11-06</th>\n",
              "      <td>3508.340088</td>\n",
              "      <td>3521.580078</td>\n",
              "      <td>3484.340088</td>\n",
              "      <td>3509.439941</td>\n",
              "      <td>3509.439941</td>\n",
              "      <td>4833950000</td>\n",
              "    </tr>\n",
              "    <tr>\n",
              "      <th>2020-11-09</th>\n",
              "      <td>3583.040039</td>\n",
              "      <td>3645.989990</td>\n",
              "      <td>3547.479980</td>\n",
              "      <td>3550.500000</td>\n",
              "      <td>3550.500000</td>\n",
              "      <td>8556610000</td>\n",
              "    </tr>\n",
              "    <tr>\n",
              "      <th>2020-11-10</th>\n",
              "      <td>3543.260010</td>\n",
              "      <td>3557.219971</td>\n",
              "      <td>3511.909912</td>\n",
              "      <td>3545.530029</td>\n",
              "      <td>3545.530029</td>\n",
              "      <td>6024230000</td>\n",
              "    </tr>\n",
              "  </tbody>\n",
              "</table>\n",
              "<p>1476 rows × 6 columns</p>\n",
              "</div>"
            ],
            "text/plain": [
              "                   Open         High  ...    Adj Close      Volume\n",
              "Date                                  ...                         \n",
              "2015-01-02  2058.899902  2072.360107  ...  2058.199951  2708700000\n",
              "2015-01-05  2054.439941  2054.439941  ...  2020.579956  3799120000\n",
              "2015-01-06  2022.150024  2030.250000  ...  2002.609985  4460110000\n",
              "2015-01-07  2005.550049  2029.609985  ...  2025.900024  3805480000\n",
              "2015-01-08  2030.609985  2064.080078  ...  2062.139893  3934010000\n",
              "...                 ...          ...  ...          ...         ...\n",
              "2020-11-04  3406.459961  3486.250000  ...  3443.439941  4783040000\n",
              "2020-11-05  3485.739990  3529.050049  ...  3510.449951  4841190000\n",
              "2020-11-06  3508.340088  3521.580078  ...  3509.439941  4833950000\n",
              "2020-11-09  3583.040039  3645.989990  ...  3550.500000  8556610000\n",
              "2020-11-10  3543.260010  3557.219971  ...  3545.530029  6024230000\n",
              "\n",
              "[1476 rows x 6 columns]"
            ]
          },
          "metadata": {
            "tags": []
          },
          "execution_count": 5
        }
      ]
    },
    {
      "cell_type": "code",
      "metadata": {
        "colab": {
          "base_uri": "https://localhost:8080/",
          "height": 237
        },
        "id": "C6VnBG56e3Ou",
        "outputId": "a63b5735-67e2-4eec-99be-25b48165e7f3"
      },
      "source": [
        "df.head()"
      ],
      "execution_count": null,
      "outputs": [
        {
          "output_type": "execute_result",
          "data": {
            "text/html": [
              "<div>\n",
              "<style scoped>\n",
              "    .dataframe tbody tr th:only-of-type {\n",
              "        vertical-align: middle;\n",
              "    }\n",
              "\n",
              "    .dataframe tbody tr th {\n",
              "        vertical-align: top;\n",
              "    }\n",
              "\n",
              "    .dataframe thead th {\n",
              "        text-align: right;\n",
              "    }\n",
              "</style>\n",
              "<table border=\"1\" class=\"dataframe\">\n",
              "  <thead>\n",
              "    <tr style=\"text-align: right;\">\n",
              "      <th></th>\n",
              "      <th>Open</th>\n",
              "      <th>High</th>\n",
              "      <th>Low</th>\n",
              "      <th>Close</th>\n",
              "      <th>Adj Close</th>\n",
              "      <th>Volume</th>\n",
              "    </tr>\n",
              "    <tr>\n",
              "      <th>Date</th>\n",
              "      <th></th>\n",
              "      <th></th>\n",
              "      <th></th>\n",
              "      <th></th>\n",
              "      <th></th>\n",
              "      <th></th>\n",
              "    </tr>\n",
              "  </thead>\n",
              "  <tbody>\n",
              "    <tr>\n",
              "      <th>2015-01-02</th>\n",
              "      <td>2058.899902</td>\n",
              "      <td>2072.360107</td>\n",
              "      <td>2046.040039</td>\n",
              "      <td>2058.199951</td>\n",
              "      <td>2058.199951</td>\n",
              "      <td>2708700000</td>\n",
              "    </tr>\n",
              "    <tr>\n",
              "      <th>2015-01-05</th>\n",
              "      <td>2054.439941</td>\n",
              "      <td>2054.439941</td>\n",
              "      <td>2017.339966</td>\n",
              "      <td>2020.579956</td>\n",
              "      <td>2020.579956</td>\n",
              "      <td>3799120000</td>\n",
              "    </tr>\n",
              "    <tr>\n",
              "      <th>2015-01-06</th>\n",
              "      <td>2022.150024</td>\n",
              "      <td>2030.250000</td>\n",
              "      <td>1992.439941</td>\n",
              "      <td>2002.609985</td>\n",
              "      <td>2002.609985</td>\n",
              "      <td>4460110000</td>\n",
              "    </tr>\n",
              "    <tr>\n",
              "      <th>2015-01-07</th>\n",
              "      <td>2005.550049</td>\n",
              "      <td>2029.609985</td>\n",
              "      <td>2005.550049</td>\n",
              "      <td>2025.900024</td>\n",
              "      <td>2025.900024</td>\n",
              "      <td>3805480000</td>\n",
              "    </tr>\n",
              "    <tr>\n",
              "      <th>2015-01-08</th>\n",
              "      <td>2030.609985</td>\n",
              "      <td>2064.080078</td>\n",
              "      <td>2030.609985</td>\n",
              "      <td>2062.139893</td>\n",
              "      <td>2062.139893</td>\n",
              "      <td>3934010000</td>\n",
              "    </tr>\n",
              "  </tbody>\n",
              "</table>\n",
              "</div>"
            ],
            "text/plain": [
              "                   Open         High  ...    Adj Close      Volume\n",
              "Date                                  ...                         \n",
              "2015-01-02  2058.899902  2072.360107  ...  2058.199951  2708700000\n",
              "2015-01-05  2054.439941  2054.439941  ...  2020.579956  3799120000\n",
              "2015-01-06  2022.150024  2030.250000  ...  2002.609985  4460110000\n",
              "2015-01-07  2005.550049  2029.609985  ...  2025.900024  3805480000\n",
              "2015-01-08  2030.609985  2064.080078  ...  2062.139893  3934010000\n",
              "\n",
              "[5 rows x 6 columns]"
            ]
          },
          "metadata": {
            "tags": []
          },
          "execution_count": 6
        }
      ]
    },
    {
      "cell_type": "code",
      "metadata": {
        "colab": {
          "base_uri": "https://localhost:8080/",
          "height": 298
        },
        "id": "Pmqv0FRCe3MJ",
        "outputId": "bdb42dd2-c6f5-4ad1-ab5d-aff4320d5860"
      },
      "source": [
        "df.plot()"
      ],
      "execution_count": null,
      "outputs": [
        {
          "output_type": "execute_result",
          "data": {
            "text/plain": [
              "<matplotlib.axes._subplots.AxesSubplot at 0x7f2cb3421ac8>"
            ]
          },
          "metadata": {
            "tags": []
          },
          "execution_count": 9
        },
        {
          "output_type": "display_data",
          "data": {
            "image/png": "[encoded data removed]",
            "text/plain": [
              "<Figure size 432x288 with 1 Axes>"
            ]
          },
          "metadata": {
            "tags": [],
            "needs_background": "light"
          }
        }
      ]
    },
    {
      "cell_type": "code",
      "metadata": {
        "colab": {
          "base_uri": "https://localhost:8080/",
          "height": 532
        },
        "id": "G6gXEIGwe3JJ",
        "outputId": "d2d98db9-aa8e-4803-a8df-7f73eb7212d5"
      },
      "source": [
        "df.Close.plot(figsize=(16,9))"
      ],
      "execution_count": null,
      "outputs": [
        {
          "output_type": "execute_result",
          "data": {
            "text/plain": [
              "<matplotlib.axes._subplots.AxesSubplot at 0x7f2cb2eb5588>"
            ]
          },
          "metadata": {
            "tags": []
          },
          "execution_count": 11
        },
        {
          "output_type": "display_data",
          "data": {
            "image/png": "[encoded data removed]",
            "text/plain": [
              "<Figure size 1152x648 with 1 Axes>"
            ]
          },
          "metadata": {
            "tags": [],
            "needs_background": "light"
          }
        }
      ]
    },
    {
      "cell_type": "code",
      "metadata": {
        "id": "i6BZ1VSrhDRc"
      },
      "source": [
        "import numpy as np\n",
        "import pandas as pd\n",
        "import matplotlib.pyplot as plt \n",
        "\n"
      ],
      "execution_count": 1,
      "outputs": []
    },
    {
      "cell_type": "code",
      "metadata": {
        "colab": {
          "resources": {
            "http://localhost:8080/nbextensions/google.colab/files.js": {
              "data": "Ly8gQ29weXJpZ2h0IDIwMTcgR29vZ2xlIExMQwovLwovLyBMaWNlbnNlZCB1bmRlciB0aGUgQXBhY2hlIExpY2Vuc2UsIFZlcnNpb24gMi4wICh0aGUgIkxpY2Vuc2UiKTsKLy8geW91IG1heSBub3QgdXNlIHRoaXMgZmlsZSBleGNlcHQgaW4gY29tcGxpYW5jZSB3aXRoIHRoZSBMaWNlbnNlLgovLyBZb3UgbWF5IG9idGFpbiBhIGNvcHkgb2YgdGhlIExpY2Vuc2UgYXQKLy8KLy8gICAgICBodHRwOi8vd3d3LmFwYWNoZS5vcmcvbGljZW5zZXMvTElDRU5TRS0yLjAKLy8KLy8gVW5sZXNzIHJlcXVpcmVkIGJ5IGFwcGxpY2FibGUgbGF3IG9yIGFncmVlZCB0byBpbiB3cml0aW5nLCBzb2Z0d2FyZQovLyBkaXN0cmlidXRlZCB1bmRlciB0aGUgTGljZW5zZSBpcyBkaXN0cmlidXRlZCBvbiBhbiAiQVMgSVMiIEJBU0lTLAovLyBXSVRIT1VUIFdBUlJBTlRJRVMgT1IgQ09ORElUSU9OUyBPRiBBTlkgS0lORCwgZWl0aGVyIGV4cHJlc3Mgb3IgaW1wbGllZC4KLy8gU2VlIHRoZSBMaWNlbnNlIGZvciB0aGUgc3BlY2lmaWMgbGFuZ3VhZ2UgZ292ZXJuaW5nIHBlcm1pc3Npb25zIGFuZAovLyBsaW1pdGF0aW9ucyB1bmRlciB0aGUgTGljZW5zZS4KCi8qKgogKiBAZmlsZW92ZXJ2aWV3IEhlbHBlcnMgZm9yIGdvb2dsZS5jb2xhYiBQeXRob24gbW9kdWxlLgogKi8KKGZ1bmN0aW9uKHNjb3BlKSB7CmZ1bmN0aW9uIHNwYW4odGV4dCwgc3R5bGVBdHRyaWJ1dGVzID0ge30pIHsKICBjb25zdCBlbGVtZW50ID0gZG9jdW1lbnQuY3JlYXRlRWxlbWVudCgnc3BhbicpOwogIGVsZW1lbnQudGV4dENvbnRlbnQgPSB0ZXh0OwogIGZvciAoY29uc3Qga2V5IG9mIE9iamVjdC5rZXlzKHN0eWxlQXR0cmlidXRlcykpIHsKICAgIGVsZW1lbnQuc3R5bGVba2V5XSA9IHN0eWxlQXR0cmlidXRlc1trZXldOwogIH0KICByZXR1cm4gZWxlbWVudDsKfQoKLy8gTWF4IG51bWJlciBvZiBieXRlcyB3aGljaCB3aWxsIGJlIHVwbG9hZGVkIGF0IGEgdGltZS4KY29uc3QgTUFYX1BBWUxPQURfU0laRSA9IDEwMCAqIDEwMjQ7CgpmdW5jdGlvbiBfdXBsb2FkRmlsZXMoaW5wdXRJZCwgb3V0cHV0SWQpIHsKICBjb25zdCBzdGVwcyA9IHVwbG9hZEZpbGVzU3RlcChpbnB1dElkLCBvdXRwdXRJZCk7CiAgY29uc3Qgb3V0cHV0RWxlbWVudCA9IGRvY3VtZW50LmdldEVsZW1lbnRCeUlkKG91dHB1dElkKTsKICAvLyBDYWNoZSBzdGVwcyBvbiB0aGUgb3V0cHV0RWxlbWVudCB0byBtYWtlIGl0IGF2YWlsYWJsZSBmb3IgdGhlIG5leHQgY2FsbAogIC8vIHRvIHVwbG9hZEZpbGVzQ29udGludWUgZnJvbSBQeXRob24uCiAgb3V0cHV0RWxlbWVudC5zdGVwcyA9IHN0ZXBzOwoKICByZXR1cm4gX3VwbG9hZEZpbGVzQ29udGludWUob3V0cHV0SWQpOwp9CgovLyBUaGlzIGlzIHJvdWdobHkgYW4gYXN5bmMgZ2VuZXJhdG9yIChub3Qgc3VwcG9ydGVkIGluIHRoZSBicm93c2VyIHlldCksCi8vIHdoZXJlIHRoZXJlIGFyZSBtdWx0aXBsZSBhc3luY2hyb25vdXMgc3RlcHMgYW5kIHRoZSBQeXRob24gc2lkZSBpcyBnb2luZwovLyB0byBwb2xsIGZvciBjb21wbGV0aW9uIG9mIGVhY2ggc3RlcC4KLy8gVGhpcyB1c2VzIGEgUHJvbWlzZSB0byBibG9jayB0aGUgcHl0aG9uIHNpZGUgb24gY29tcGxldGlvbiBvZiBlYWNoIHN0ZXAsCi8vIHRoZW4gcGFzc2VzIHRoZSByZXN1bHQgb2YgdGhlIHByZXZpb3VzIHN0ZXAgYXMgdGhlIGlucHV0IHRvIHRoZSBuZXh0IHN0ZXAuCmZ1bmN0aW9uIF91cGxvYWRGaWxlc0NvbnRpbnVlKG91dHB1dElkKSB7CiAgY29uc3Qgb3V0cHV0RWxlbWVudCA9IGRvY3VtZW50LmdldEVsZW1lbnRCeUlkKG91dHB1dElkKTsKICBjb25zdCBzdGVwcyA9IG91dHB1dEVsZW1lbnQuc3RlcHM7CgogIGNvbnN0IG5leHQgPSBzdGVwcy5uZXh0KG91dHB1dEVsZW1lbnQubGFzdFByb21pc2VWYWx1ZSk7CiAgcmV0dXJuIFByb21pc2UucmVzb2x2ZShuZXh0LnZhbHVlLnByb21pc2UpLnRoZW4oKHZhbHVlKSA9PiB7CiAgICAvLyBDYWNoZSB0aGUgbGFzdCBwcm9taXNlIHZhbHVlIHRvIG1ha2UgaXQgYXZhaWxhYmxlIHRvIHRoZSBuZXh0CiAgICAvLyBzdGVwIG9mIHRoZSBnZW5lcmF0b3IuCiAgICBvdXRwdXRFbGVtZW50Lmxhc3RQcm9taXNlVmFsdWUgPSB2YWx1ZTsKICAgIHJldHVybiBuZXh0LnZhbHVlLnJlc3BvbnNlOwogIH0pOwp9CgovKioKICogR2VuZXJhdG9yIGZ1bmN0aW9uIHdoaWNoIGlzIGNhbGxlZCBiZXR3ZWVuIGVhY2ggYXN5bmMgc3RlcCBvZiB0aGUgdXBsb2FkCiAqIHByb2Nlc3MuCiAqIEBwYXJhbSB7c3RyaW5nfSBpbnB1dElkIEVsZW1lbnQgSUQgb2YgdGhlIGlucHV0IGZpbGUgcGlja2VyIGVsZW1lbnQuCiAqIEBwYXJhbSB7c3RyaW5nfSBvdXRwdXRJZCBFbGVtZW50IElEIG9mIHRoZSBvdXRwdXQgZGlzcGxheS4KICogQHJldHVybiB7IUl0ZXJhYmxlPCFPYmplY3Q+fSBJdGVyYWJsZSBvZiBuZXh0IHN0ZXBzLgogKi8KZnVuY3Rpb24qIHVwbG9hZEZpbGVzU3RlcChpbnB1dElkLCBvdXRwdXRJZCkgewogIGNvbnN0IGlucHV0RWxlbWVudCA9IGRvY3VtZW50LmdldEVsZW1lbnRCeUlkKGlucHV0SWQpOwogIGlucHV0RWxlbWVudC5kaXNhYmxlZCA9IGZhbHNlOwoKICBjb25zdCBvdXRwdXRFbGVtZW50ID0gZG9jdW1lbnQuZ2V0RWxlbWVudEJ5SWQob3V0cHV0SWQpOwogIG91dHB1dEVsZW1lbnQuaW5uZXJIVE1MID0gJyc7CgogIGNvbnN0IHBpY2tlZFByb21pc2UgPSBuZXcgUHJvbWlzZSgocmVzb2x2ZSkgPT4gewogICAgaW5wdXRFbGVtZW50LmFkZEV2ZW50TGlzdGVuZXIoJ2NoYW5nZScsIChlKSA9PiB7CiAgICAgIHJlc29sdmUoZS50YXJnZXQuZmlsZXMpOwogICAgfSk7CiAgfSk7CgogIGNvbnN0IGNhbmNlbCA9IGRvY3VtZW50LmNyZWF0ZUVsZW1lbnQoJ2J1dHRvbicpOwogIGlucHV0RWxlbWVudC5wYXJlbnRFbGVtZW50LmFwcGVuZENoaWxkKGNhbmNlbCk7CiAgY2FuY2VsLnRleHRDb250ZW50ID0gJ0NhbmNlbCB1cGxvYWQnOwogIGNvbnN0IGNhbmNlbFByb21pc2UgPSBuZXcgUHJvbWlzZSgocmVzb2x2ZSkgPT4gewogICAgY2FuY2VsLm9uY2xpY2sgPSAoKSA9PiB7CiAgICAgIHJlc29sdmUobnVsbCk7CiAgICB9OwogIH0pOwoKICAvLyBXYWl0IGZvciB0aGUgdXNlciB0byBwaWNrIHRoZSBmaWxlcy4KICBjb25zdCBmaWxlcyA9IHlpZWxkIHsKICAgIHByb21pc2U6IFByb21pc2UucmFjZShbcGlja2VkUHJvbWlzZSwgY2FuY2VsUHJvbWlzZV0pLAogICAgcmVzcG9uc2U6IHsKICAgICAgYWN0aW9uOiAnc3RhcnRpbmcnLAogICAgfQogIH07CgogIGNhbmNlbC5yZW1vdmUoKTsKCiAgLy8gRGlzYWJsZSB0aGUgaW5wdXQgZWxlbWVudCBzaW5jZSBmdXJ0aGVyIHBpY2tzIGFyZSBub3QgYWxsb3dlZC4KICBpbnB1dEVsZW1lbnQuZGlzYWJsZWQgPSB0cnVlOwoKICBpZiAoIWZpbGVzKSB7CiAgICByZXR1cm4gewogICAgICByZXNwb25zZTogewogICAgICAgIGFjdGlvbjogJ2NvbXBsZXRlJywKICAgICAgfQogICAgfTsKICB9CgogIGZvciAoY29uc3QgZmlsZSBvZiBmaWxlcykgewogICAgY29uc3QgbGkgPSBkb2N1bWVudC5jcmVhdGVFbGVtZW50KCdsaScpOwogICAgbGkuYXBwZW5kKHNwYW4oZmlsZS5uYW1lLCB7Zm9udFdlaWdodDogJ2JvbGQnfSkpOwogICAgbGkuYXBwZW5kKHNwYW4oCiAgICAgICAgYCgke2ZpbGUudHlwZSB8fCAnbi9hJ30pIC0gJHtmaWxlLnNpemV9IGJ5dGVzLCBgICsKICAgICAgICBgbGFzdCBtb2RpZmllZDogJHsKICAgICAgICAgICAgZmlsZS5sYXN0TW9kaWZpZWREYXRlID8gZmlsZS5sYXN0TW9kaWZpZWREYXRlLnRvTG9jYWxlRGF0ZVN0cmluZygpIDoKICAgICAgICAgICAgICAgICAgICAgICAgICAgICAgICAgICAgJ24vYSd9IC0gYCkpOwogICAgY29uc3QgcGVyY2VudCA9IHNwYW4oJzAlIGRvbmUnKTsKICAgIGxpLmFwcGVuZENoaWxkKHBlcmNlbnQpOwoKICAgIG91dHB1dEVsZW1lbnQuYXBwZW5kQ2hpbGQobGkpOwoKICAgIGNvbnN0IGZpbGVEYXRhUHJvbWlzZSA9IG5ldyBQcm9taXNlKChyZXNvbHZlKSA9PiB7CiAgICAgIGNvbnN0IHJlYWRlciA9IG5ldyBGaWxlUmVhZGVyKCk7CiAgICAgIHJlYWRlci5vbmxvYWQgPSAoZSkgPT4gewogICAgICAgIHJlc29sdmUoZS50YXJnZXQucmVzdWx0KTsKICAgICAgfTsKICAgICAgcmVhZGVyLnJlYWRBc0FycmF5QnVmZmVyKGZpbGUpOwogICAgfSk7CiAgICAvLyBXYWl0IGZvciB0aGUgZGF0YSB0byBiZSByZWFkeS4KICAgIGxldCBmaWxlRGF0YSA9IHlpZWxkIHsKICAgICAgcHJvbWlzZTogZmlsZURhdGFQcm9taXNlLAogICAgICByZXNwb25zZTogewogICAgICAgIGFjdGlvbjogJ2NvbnRpbnVlJywKICAgICAgfQogICAgfTsKCiAgICAvLyBVc2UgYSBjaHVua2VkIHNlbmRpbmcgdG8gYXZvaWQgbWVzc2FnZSBzaXplIGxpbWl0cy4gU2VlIGIvNjIxMTU2NjAuCiAgICBsZXQgcG9zaXRpb24gPSAwOwogICAgd2hpbGUgKHBvc2l0aW9uIDwgZmlsZURhdGEuYnl0ZUxlbmd0aCkgewogICAgICBjb25zdCBsZW5ndGggPSBNYXRoLm1pbihmaWxlRGF0YS5ieXRlTGVuZ3RoIC0gcG9zaXRpb24sIE1BWF9QQVlMT0FEX1NJWkUpOwogICAgICBjb25zdCBjaHVuayA9IG5ldyBVaW50OEFycmF5KGZpbGVEYXRhLCBwb3NpdGlvbiwgbGVuZ3RoKTsKICAgICAgcG9zaXRpb24gKz0gbGVuZ3RoOwoKICAgICAgY29uc3QgYmFzZTY0ID0gYnRvYShTdHJpbmcuZnJvbUNoYXJDb2RlLmFwcGx5KG51bGwsIGNodW5rKSk7CiAgICAgIHlpZWxkIHsKICAgICAgICByZXNwb25zZTogewogICAgICAgICAgYWN0aW9uOiAnYXBwZW5kJywKICAgICAgICAgIGZpbGU6IGZpbGUubmFtZSwKICAgICAgICAgIGRhdGE6IGJhc2U2NCwKICAgICAgICB9LAogICAgICB9OwogICAgICBwZXJjZW50LnRleHRDb250ZW50ID0KICAgICAgICAgIGAke01hdGgucm91bmQoKHBvc2l0aW9uIC8gZmlsZURhdGEuYnl0ZUxlbmd0aCkgKiAxMDApfSUgZG9uZWA7CiAgICB9CiAgfQoKICAvLyBBbGwgZG9uZS4KICB5aWVsZCB7CiAgICByZXNwb25zZTogewogICAgICBhY3Rpb246ICdjb21wbGV0ZScsCiAgICB9CiAgfTsKfQoKc2NvcGUuZ29vZ2xlID0gc2NvcGUuZ29vZ2xlIHx8IHt9OwpzY29wZS5nb29nbGUuY29sYWIgPSBzY29wZS5nb29nbGUuY29sYWIgfHwge307CnNjb3BlLmdvb2dsZS5jb2xhYi5fZmlsZXMgPSB7CiAgX3VwbG9hZEZpbGVzLAogIF91cGxvYWRGaWxlc0NvbnRpbnVlLAp9Owp9KShzZWxmKTsK",
              "ok": true,
              "headers": [
                [
                  "content-type",
                  "application/javascript"
                ]
              ],
              "status": 200,
              "status_text": "OK"
            }
          },
          "base_uri": "https://localhost:8080/",
          "height": 73
        },
        "id": "-sew-78UhDN7",
        "outputId": "58b34a13-f2e6-4595-8c5e-892a0851f4d1"
      },
      "source": [
        "from google.colab import files\n",
        "import io\n",
        "\n",
        "dataset = files.upload()"
      ],
      "execution_count": 2,
      "outputs": [
        {
          "output_type": "display_data",
          "data": {
            "text/html": [
              "\n",
              "     <input type=\"file\" id=\"files-8635e3a6-b2db-4525-a7ae-eca68adff8bd\" name=\"files[]\" multiple disabled\n",
              "        style=\"border:none\" />\n",
              "     <output id=\"result-8635e3a6-b2db-4525-a7ae-eca68adff8bd\">\n",
              "      Upload widget is only available when the cell has been executed in the\n",
              "      current browser session. Please rerun this cell to enable.\n",
              "      </output>\n",
              "      <script src=\"/nbextensions/google.colab/files.js\"></script> "
            ],
            "text/plain": [
              "<IPython.core.display.HTML object>"
            ]
          },
          "metadata": {
            "tags": []
          }
        },
        {
          "output_type": "stream",
          "text": [
            "Saving data_csv.csv to data_csv.csv\n"
          ],
          "name": "stdout"
        }
      ]
    },
    {
      "cell_type": "code",
      "metadata": {
        "id": "trg4e_uThDK9"
      },
      "source": [
        "df = pd.read_csv(io.BytesIO(dataset['data_csv.csv']))"
      ],
      "execution_count": 3,
      "outputs": []
    },
    {
      "cell_type": "code",
      "metadata": {
        "colab": {
          "base_uri": "https://localhost:8080/",
          "height": 424
        },
        "id": "SflsNTRfhDHp",
        "outputId": "784609ac-079a-46e6-d20e-3a29c93eb771"
      },
      "source": [
        "df #Load"
      ],
      "execution_count": 4,
      "outputs": [
        {
          "output_type": "execute_result",
          "data": {
            "text/html": [
              "<div>\n",
              "<style scoped>\n",
              "    .dataframe tbody tr th:only-of-type {\n",
              "        vertical-align: middle;\n",
              "    }\n",
              "\n",
              "    .dataframe tbody tr th {\n",
              "        vertical-align: top;\n",
              "    }\n",
              "\n",
              "    .dataframe thead th {\n",
              "        text-align: right;\n",
              "    }\n",
              "</style>\n",
              "<table border=\"1\" class=\"dataframe\">\n",
              "  <thead>\n",
              "    <tr style=\"text-align: right;\">\n",
              "      <th></th>\n",
              "      <th>Date</th>\n",
              "      <th>SP500</th>\n",
              "      <th>Dividend</th>\n",
              "      <th>Earnings</th>\n",
              "      <th>Consumer Price Index</th>\n",
              "      <th>Long Interest Rate</th>\n",
              "      <th>Real Price</th>\n",
              "      <th>Real Dividend</th>\n",
              "      <th>Real Earnings</th>\n",
              "      <th>PE10</th>\n",
              "    </tr>\n",
              "  </thead>\n",
              "  <tbody>\n",
              "    <tr>\n",
              "      <th>0</th>\n",
              "      <td>1871-01-01</td>\n",
              "      <td>4.44</td>\n",
              "      <td>0.26</td>\n",
              "      <td>0.40</td>\n",
              "      <td>12.46</td>\n",
              "      <td>5.32</td>\n",
              "      <td>89.00</td>\n",
              "      <td>5.21</td>\n",
              "      <td>8.02</td>\n",
              "      <td>NaN</td>\n",
              "    </tr>\n",
              "    <tr>\n",
              "      <th>1</th>\n",
              "      <td>1871-02-01</td>\n",
              "      <td>4.50</td>\n",
              "      <td>0.26</td>\n",
              "      <td>0.40</td>\n",
              "      <td>12.84</td>\n",
              "      <td>5.32</td>\n",
              "      <td>87.53</td>\n",
              "      <td>5.06</td>\n",
              "      <td>7.78</td>\n",
              "      <td>NaN</td>\n",
              "    </tr>\n",
              "    <tr>\n",
              "      <th>2</th>\n",
              "      <td>1871-03-01</td>\n",
              "      <td>4.61</td>\n",
              "      <td>0.26</td>\n",
              "      <td>0.40</td>\n",
              "      <td>13.03</td>\n",
              "      <td>5.33</td>\n",
              "      <td>88.36</td>\n",
              "      <td>4.98</td>\n",
              "      <td>7.67</td>\n",
              "      <td>NaN</td>\n",
              "    </tr>\n",
              "    <tr>\n",
              "      <th>3</th>\n",
              "      <td>1871-04-01</td>\n",
              "      <td>4.74</td>\n",
              "      <td>0.26</td>\n",
              "      <td>0.40</td>\n",
              "      <td>12.56</td>\n",
              "      <td>5.33</td>\n",
              "      <td>94.29</td>\n",
              "      <td>5.17</td>\n",
              "      <td>7.96</td>\n",
              "      <td>NaN</td>\n",
              "    </tr>\n",
              "    <tr>\n",
              "      <th>4</th>\n",
              "      <td>1871-05-01</td>\n",
              "      <td>4.86</td>\n",
              "      <td>0.26</td>\n",
              "      <td>0.40</td>\n",
              "      <td>12.27</td>\n",
              "      <td>5.33</td>\n",
              "      <td>98.93</td>\n",
              "      <td>5.29</td>\n",
              "      <td>8.14</td>\n",
              "      <td>NaN</td>\n",
              "    </tr>\n",
              "    <tr>\n",
              "      <th>...</th>\n",
              "      <td>...</td>\n",
              "      <td>...</td>\n",
              "      <td>...</td>\n",
              "      <td>...</td>\n",
              "      <td>...</td>\n",
              "      <td>...</td>\n",
              "      <td>...</td>\n",
              "      <td>...</td>\n",
              "      <td>...</td>\n",
              "      <td>...</td>\n",
              "    </tr>\n",
              "    <tr>\n",
              "      <th>1763</th>\n",
              "      <td>2017-12-01</td>\n",
              "      <td>2664.34</td>\n",
              "      <td>48.93</td>\n",
              "      <td>109.88</td>\n",
              "      <td>246.52</td>\n",
              "      <td>2.40</td>\n",
              "      <td>2700.13</td>\n",
              "      <td>49.59</td>\n",
              "      <td>111.36</td>\n",
              "      <td>32.09</td>\n",
              "    </tr>\n",
              "    <tr>\n",
              "      <th>1764</th>\n",
              "      <td>2018-01-01</td>\n",
              "      <td>2789.80</td>\n",
              "      <td>49.29</td>\n",
              "      <td>NaN</td>\n",
              "      <td>247.87</td>\n",
              "      <td>2.58</td>\n",
              "      <td>2811.96</td>\n",
              "      <td>49.68</td>\n",
              "      <td>NaN</td>\n",
              "      <td>33.31</td>\n",
              "    </tr>\n",
              "    <tr>\n",
              "      <th>1765</th>\n",
              "      <td>2018-02-01</td>\n",
              "      <td>2705.16</td>\n",
              "      <td>49.64</td>\n",
              "      <td>NaN</td>\n",
              "      <td>248.99</td>\n",
              "      <td>2.86</td>\n",
              "      <td>2714.34</td>\n",
              "      <td>49.81</td>\n",
              "      <td>NaN</td>\n",
              "      <td>32.12</td>\n",
              "    </tr>\n",
              "    <tr>\n",
              "      <th>1766</th>\n",
              "      <td>2018-03-01</td>\n",
              "      <td>2702.77</td>\n",
              "      <td>50.00</td>\n",
              "      <td>NaN</td>\n",
              "      <td>249.55</td>\n",
              "      <td>2.84</td>\n",
              "      <td>2705.82</td>\n",
              "      <td>50.06</td>\n",
              "      <td>NaN</td>\n",
              "      <td>31.99</td>\n",
              "    </tr>\n",
              "    <tr>\n",
              "      <th>1767</th>\n",
              "      <td>2018-04-01</td>\n",
              "      <td>2642.19</td>\n",
              "      <td>NaN</td>\n",
              "      <td>NaN</td>\n",
              "      <td>249.84</td>\n",
              "      <td>2.80</td>\n",
              "      <td>2642.19</td>\n",
              "      <td>NaN</td>\n",
              "      <td>NaN</td>\n",
              "      <td>31.19</td>\n",
              "    </tr>\n",
              "  </tbody>\n",
              "</table>\n",
              "<p>1768 rows × 10 columns</p>\n",
              "</div>"
            ],
            "text/plain": [
              "            Date    SP500  Dividend  ...  Real Dividend  Real Earnings   PE10\n",
              "0     1871-01-01     4.44      0.26  ...           5.21           8.02    NaN\n",
              "1     1871-02-01     4.50      0.26  ...           5.06           7.78    NaN\n",
              "2     1871-03-01     4.61      0.26  ...           4.98           7.67    NaN\n",
              "3     1871-04-01     4.74      0.26  ...           5.17           7.96    NaN\n",
              "4     1871-05-01     4.86      0.26  ...           5.29           8.14    NaN\n",
              "...          ...      ...       ...  ...            ...            ...    ...\n",
              "1763  2017-12-01  2664.34     48.93  ...          49.59         111.36  32.09\n",
              "1764  2018-01-01  2789.80     49.29  ...          49.68            NaN  33.31\n",
              "1765  2018-02-01  2705.16     49.64  ...          49.81            NaN  32.12\n",
              "1766  2018-03-01  2702.77     50.00  ...          50.06            NaN  31.99\n",
              "1767  2018-04-01  2642.19       NaN  ...            NaN            NaN  31.19\n",
              "\n",
              "[1768 rows x 10 columns]"
            ]
          },
          "metadata": {
            "tags": []
          },
          "execution_count": 4
        }
      ]
    },
    {
      "cell_type": "code",
      "metadata": {
        "id": "3bc6nedphDEp"
      },
      "source": [
        "dataset = df.iloc[948:1768,0:10]"
      ],
      "execution_count": 5,
      "outputs": []
    },
    {
      "cell_type": "code",
      "metadata": {
        "colab": {
          "base_uri": "https://localhost:8080/",
          "height": 424
        },
        "id": "luv2OKZ5hDBp",
        "outputId": "25ccc48c-fcfc-4194-cdc2-23abf7c4a1b6"
      },
      "source": [
        "dataset"
      ],
      "execution_count": 6,
      "outputs": [
        {
          "output_type": "execute_result",
          "data": {
            "text/html": [
              "<div>\n",
              "<style scoped>\n",
              "    .dataframe tbody tr th:only-of-type {\n",
              "        vertical-align: middle;\n",
              "    }\n",
              "\n",
              "    .dataframe tbody tr th {\n",
              "        vertical-align: top;\n",
              "    }\n",
              "\n",
              "    .dataframe thead th {\n",
              "        text-align: right;\n",
              "    }\n",
              "</style>\n",
              "<table border=\"1\" class=\"dataframe\">\n",
              "  <thead>\n",
              "    <tr style=\"text-align: right;\">\n",
              "      <th></th>\n",
              "      <th>Date</th>\n",
              "      <th>SP500</th>\n",
              "      <th>Dividend</th>\n",
              "      <th>Earnings</th>\n",
              "      <th>Consumer Price Index</th>\n",
              "      <th>Long Interest Rate</th>\n",
              "      <th>Real Price</th>\n",
              "      <th>Real Dividend</th>\n",
              "      <th>Real Earnings</th>\n",
              "      <th>PE10</th>\n",
              "    </tr>\n",
              "  </thead>\n",
              "  <tbody>\n",
              "    <tr>\n",
              "      <th>948</th>\n",
              "      <td>1950-01-01</td>\n",
              "      <td>16.88</td>\n",
              "      <td>1.15</td>\n",
              "      <td>2.34</td>\n",
              "      <td>23.50</td>\n",
              "      <td>2.32</td>\n",
              "      <td>179.46</td>\n",
              "      <td>12.23</td>\n",
              "      <td>24.84</td>\n",
              "      <td>10.75</td>\n",
              "    </tr>\n",
              "    <tr>\n",
              "      <th>949</th>\n",
              "      <td>1950-02-01</td>\n",
              "      <td>17.21</td>\n",
              "      <td>1.16</td>\n",
              "      <td>2.35</td>\n",
              "      <td>23.50</td>\n",
              "      <td>2.34</td>\n",
              "      <td>182.96</td>\n",
              "      <td>12.33</td>\n",
              "      <td>25.02</td>\n",
              "      <td>10.91</td>\n",
              "    </tr>\n",
              "    <tr>\n",
              "      <th>950</th>\n",
              "      <td>1950-03-01</td>\n",
              "      <td>17.35</td>\n",
              "      <td>1.17</td>\n",
              "      <td>2.37</td>\n",
              "      <td>23.60</td>\n",
              "      <td>2.36</td>\n",
              "      <td>183.67</td>\n",
              "      <td>12.39</td>\n",
              "      <td>25.09</td>\n",
              "      <td>10.91</td>\n",
              "    </tr>\n",
              "    <tr>\n",
              "      <th>951</th>\n",
              "      <td>1950-04-01</td>\n",
              "      <td>17.84</td>\n",
              "      <td>1.18</td>\n",
              "      <td>2.43</td>\n",
              "      <td>23.60</td>\n",
              "      <td>2.38</td>\n",
              "      <td>188.86</td>\n",
              "      <td>12.49</td>\n",
              "      <td>25.69</td>\n",
              "      <td>11.18</td>\n",
              "    </tr>\n",
              "    <tr>\n",
              "      <th>952</th>\n",
              "      <td>1950-05-01</td>\n",
              "      <td>18.44</td>\n",
              "      <td>1.19</td>\n",
              "      <td>2.48</td>\n",
              "      <td>23.70</td>\n",
              "      <td>2.40</td>\n",
              "      <td>194.39</td>\n",
              "      <td>12.54</td>\n",
              "      <td>26.18</td>\n",
              "      <td>11.46</td>\n",
              "    </tr>\n",
              "    <tr>\n",
              "      <th>...</th>\n",
              "      <td>...</td>\n",
              "      <td>...</td>\n",
              "      <td>...</td>\n",
              "      <td>...</td>\n",
              "      <td>...</td>\n",
              "      <td>...</td>\n",
              "      <td>...</td>\n",
              "      <td>...</td>\n",
              "      <td>...</td>\n",
              "      <td>...</td>\n",
              "    </tr>\n",
              "    <tr>\n",
              "      <th>1763</th>\n",
              "      <td>2017-12-01</td>\n",
              "      <td>2664.34</td>\n",
              "      <td>48.93</td>\n",
              "      <td>109.88</td>\n",
              "      <td>246.52</td>\n",
              "      <td>2.40</td>\n",
              "      <td>2700.13</td>\n",
              "      <td>49.59</td>\n",
              "      <td>111.36</td>\n",
              "      <td>32.09</td>\n",
              "    </tr>\n",
              "    <tr>\n",
              "      <th>1764</th>\n",
              "      <td>2018-01-01</td>\n",
              "      <td>2789.80</td>\n",
              "      <td>49.29</td>\n",
              "      <td>NaN</td>\n",
              "      <td>247.87</td>\n",
              "      <td>2.58</td>\n",
              "      <td>2811.96</td>\n",
              "      <td>49.68</td>\n",
              "      <td>NaN</td>\n",
              "      <td>33.31</td>\n",
              "    </tr>\n",
              "    <tr>\n",
              "      <th>1765</th>\n",
              "      <td>2018-02-01</td>\n",
              "      <td>2705.16</td>\n",
              "      <td>49.64</td>\n",
              "      <td>NaN</td>\n",
              "      <td>248.99</td>\n",
              "      <td>2.86</td>\n",
              "      <td>2714.34</td>\n",
              "      <td>49.81</td>\n",
              "      <td>NaN</td>\n",
              "      <td>32.12</td>\n",
              "    </tr>\n",
              "    <tr>\n",
              "      <th>1766</th>\n",
              "      <td>2018-03-01</td>\n",
              "      <td>2702.77</td>\n",
              "      <td>50.00</td>\n",
              "      <td>NaN</td>\n",
              "      <td>249.55</td>\n",
              "      <td>2.84</td>\n",
              "      <td>2705.82</td>\n",
              "      <td>50.06</td>\n",
              "      <td>NaN</td>\n",
              "      <td>31.99</td>\n",
              "    </tr>\n",
              "    <tr>\n",
              "      <th>1767</th>\n",
              "      <td>2018-04-01</td>\n",
              "      <td>2642.19</td>\n",
              "      <td>NaN</td>\n",
              "      <td>NaN</td>\n",
              "      <td>249.84</td>\n",
              "      <td>2.80</td>\n",
              "      <td>2642.19</td>\n",
              "      <td>NaN</td>\n",
              "      <td>NaN</td>\n",
              "      <td>31.19</td>\n",
              "    </tr>\n",
              "  </tbody>\n",
              "</table>\n",
              "<p>820 rows × 10 columns</p>\n",
              "</div>"
            ],
            "text/plain": [
              "            Date    SP500  Dividend  ...  Real Dividend  Real Earnings   PE10\n",
              "948   1950-01-01    16.88      1.15  ...          12.23          24.84  10.75\n",
              "949   1950-02-01    17.21      1.16  ...          12.33          25.02  10.91\n",
              "950   1950-03-01    17.35      1.17  ...          12.39          25.09  10.91\n",
              "951   1950-04-01    17.84      1.18  ...          12.49          25.69  11.18\n",
              "952   1950-05-01    18.44      1.19  ...          12.54          26.18  11.46\n",
              "...          ...      ...       ...  ...            ...            ...    ...\n",
              "1763  2017-12-01  2664.34     48.93  ...          49.59         111.36  32.09\n",
              "1764  2018-01-01  2789.80     49.29  ...          49.68            NaN  33.31\n",
              "1765  2018-02-01  2705.16     49.64  ...          49.81            NaN  32.12\n",
              "1766  2018-03-01  2702.77     50.00  ...          50.06            NaN  31.99\n",
              "1767  2018-04-01  2642.19       NaN  ...            NaN            NaN  31.19\n",
              "\n",
              "[820 rows x 10 columns]"
            ]
          },
          "metadata": {
            "tags": []
          },
          "execution_count": 6
        }
      ]
    },
    {
      "cell_type": "code",
      "metadata": {
        "id": "n2oQ6YsdAjnz",
        "colab": {
          "base_uri": "https://localhost:8080/",
          "height": 206
        },
        "outputId": "4205236c-96ce-457f-d5d4-fe7c9aad205e"
      },
      "source": [
        "dataset.head()"
      ],
      "execution_count": 7,
      "outputs": [
        {
          "output_type": "execute_result",
          "data": {
            "text/html": [
              "<div>\n",
              "<style scoped>\n",
              "    .dataframe tbody tr th:only-of-type {\n",
              "        vertical-align: middle;\n",
              "    }\n",
              "\n",
              "    .dataframe tbody tr th {\n",
              "        vertical-align: top;\n",
              "    }\n",
              "\n",
              "    .dataframe thead th {\n",
              "        text-align: right;\n",
              "    }\n",
              "</style>\n",
              "<table border=\"1\" class=\"dataframe\">\n",
              "  <thead>\n",
              "    <tr style=\"text-align: right;\">\n",
              "      <th></th>\n",
              "      <th>Date</th>\n",
              "      <th>SP500</th>\n",
              "      <th>Dividend</th>\n",
              "      <th>Earnings</th>\n",
              "      <th>Consumer Price Index</th>\n",
              "      <th>Long Interest Rate</th>\n",
              "      <th>Real Price</th>\n",
              "      <th>Real Dividend</th>\n",
              "      <th>Real Earnings</th>\n",
              "      <th>PE10</th>\n",
              "    </tr>\n",
              "  </thead>\n",
              "  <tbody>\n",
              "    <tr>\n",
              "      <th>948</th>\n",
              "      <td>1950-01-01</td>\n",
              "      <td>16.88</td>\n",
              "      <td>1.15</td>\n",
              "      <td>2.34</td>\n",
              "      <td>23.5</td>\n",
              "      <td>2.32</td>\n",
              "      <td>179.46</td>\n",
              "      <td>12.23</td>\n",
              "      <td>24.84</td>\n",
              "      <td>10.75</td>\n",
              "    </tr>\n",
              "    <tr>\n",
              "      <th>949</th>\n",
              "      <td>1950-02-01</td>\n",
              "      <td>17.21</td>\n",
              "      <td>1.16</td>\n",
              "      <td>2.35</td>\n",
              "      <td>23.5</td>\n",
              "      <td>2.34</td>\n",
              "      <td>182.96</td>\n",
              "      <td>12.33</td>\n",
              "      <td>25.02</td>\n",
              "      <td>10.91</td>\n",
              "    </tr>\n",
              "    <tr>\n",
              "      <th>950</th>\n",
              "      <td>1950-03-01</td>\n",
              "      <td>17.35</td>\n",
              "      <td>1.17</td>\n",
              "      <td>2.37</td>\n",
              "      <td>23.6</td>\n",
              "      <td>2.36</td>\n",
              "      <td>183.67</td>\n",
              "      <td>12.39</td>\n",
              "      <td>25.09</td>\n",
              "      <td>10.91</td>\n",
              "    </tr>\n",
              "    <tr>\n",
              "      <th>951</th>\n",
              "      <td>1950-04-01</td>\n",
              "      <td>17.84</td>\n",
              "      <td>1.18</td>\n",
              "      <td>2.43</td>\n",
              "      <td>23.6</td>\n",
              "      <td>2.38</td>\n",
              "      <td>188.86</td>\n",
              "      <td>12.49</td>\n",
              "      <td>25.69</td>\n",
              "      <td>11.18</td>\n",
              "    </tr>\n",
              "    <tr>\n",
              "      <th>952</th>\n",
              "      <td>1950-05-01</td>\n",
              "      <td>18.44</td>\n",
              "      <td>1.19</td>\n",
              "      <td>2.48</td>\n",
              "      <td>23.7</td>\n",
              "      <td>2.40</td>\n",
              "      <td>194.39</td>\n",
              "      <td>12.54</td>\n",
              "      <td>26.18</td>\n",
              "      <td>11.46</td>\n",
              "    </tr>\n",
              "  </tbody>\n",
              "</table>\n",
              "</div>"
            ],
            "text/plain": [
              "           Date  SP500  Dividend  ...  Real Dividend  Real Earnings   PE10\n",
              "948  1950-01-01  16.88      1.15  ...          12.23          24.84  10.75\n",
              "949  1950-02-01  17.21      1.16  ...          12.33          25.02  10.91\n",
              "950  1950-03-01  17.35      1.17  ...          12.39          25.09  10.91\n",
              "951  1950-04-01  17.84      1.18  ...          12.49          25.69  11.18\n",
              "952  1950-05-01  18.44      1.19  ...          12.54          26.18  11.46\n",
              "\n",
              "[5 rows x 10 columns]"
            ]
          },
          "metadata": {
            "tags": []
          },
          "execution_count": 7
        }
      ]
    },
    {
      "cell_type": "code",
      "metadata": {
        "id": "GbIGgyoDAjkz"
      },
      "source": [
        "data_frame = dataset[['Date', 'Long Interest Rate', 'Real Price', 'Real Dividend']]"
      ],
      "execution_count": 20,
      "outputs": []
    },
    {
      "cell_type": "code",
      "metadata": {
        "id": "0hgd86urAjhy",
        "colab": {
          "base_uri": "https://localhost:8080/",
          "height": 424
        },
        "outputId": "0f710b2a-e8ea-41a7-fdd7-bc21d67748d9"
      },
      "source": [
        "data_frame"
      ],
      "execution_count": 21,
      "outputs": [
        {
          "output_type": "execute_result",
          "data": {
            "text/html": [
              "<div>\n",
              "<style scoped>\n",
              "    .dataframe tbody tr th:only-of-type {\n",
              "        vertical-align: middle;\n",
              "    }\n",
              "\n",
              "    .dataframe tbody tr th {\n",
              "        vertical-align: top;\n",
              "    }\n",
              "\n",
              "    .dataframe thead th {\n",
              "        text-align: right;\n",
              "    }\n",
              "</style>\n",
              "<table border=\"1\" class=\"dataframe\">\n",
              "  <thead>\n",
              "    <tr style=\"text-align: right;\">\n",
              "      <th></th>\n",
              "      <th>Date</th>\n",
              "      <th>Long Interest Rate</th>\n",
              "      <th>Real Price</th>\n",
              "      <th>Real Dividend</th>\n",
              "    </tr>\n",
              "  </thead>\n",
              "  <tbody>\n",
              "    <tr>\n",
              "      <th>948</th>\n",
              "      <td>1950-01-01</td>\n",
              "      <td>2.32</td>\n",
              "      <td>179.46</td>\n",
              "      <td>12.23</td>\n",
              "    </tr>\n",
              "    <tr>\n",
              "      <th>949</th>\n",
              "      <td>1950-02-01</td>\n",
              "      <td>2.34</td>\n",
              "      <td>182.96</td>\n",
              "      <td>12.33</td>\n",
              "    </tr>\n",
              "    <tr>\n",
              "      <th>950</th>\n",
              "      <td>1950-03-01</td>\n",
              "      <td>2.36</td>\n",
              "      <td>183.67</td>\n",
              "      <td>12.39</td>\n",
              "    </tr>\n",
              "    <tr>\n",
              "      <th>951</th>\n",
              "      <td>1950-04-01</td>\n",
              "      <td>2.38</td>\n",
              "      <td>188.86</td>\n",
              "      <td>12.49</td>\n",
              "    </tr>\n",
              "    <tr>\n",
              "      <th>952</th>\n",
              "      <td>1950-05-01</td>\n",
              "      <td>2.40</td>\n",
              "      <td>194.39</td>\n",
              "      <td>12.54</td>\n",
              "    </tr>\n",
              "    <tr>\n",
              "      <th>...</th>\n",
              "      <td>...</td>\n",
              "      <td>...</td>\n",
              "      <td>...</td>\n",
              "      <td>...</td>\n",
              "    </tr>\n",
              "    <tr>\n",
              "      <th>1763</th>\n",
              "      <td>2017-12-01</td>\n",
              "      <td>2.40</td>\n",
              "      <td>2700.13</td>\n",
              "      <td>49.59</td>\n",
              "    </tr>\n",
              "    <tr>\n",
              "      <th>1764</th>\n",
              "      <td>2018-01-01</td>\n",
              "      <td>2.58</td>\n",
              "      <td>2811.96</td>\n",
              "      <td>49.68</td>\n",
              "    </tr>\n",
              "    <tr>\n",
              "      <th>1765</th>\n",
              "      <td>2018-02-01</td>\n",
              "      <td>2.86</td>\n",
              "      <td>2714.34</td>\n",
              "      <td>49.81</td>\n",
              "    </tr>\n",
              "    <tr>\n",
              "      <th>1766</th>\n",
              "      <td>2018-03-01</td>\n",
              "      <td>2.84</td>\n",
              "      <td>2705.82</td>\n",
              "      <td>50.06</td>\n",
              "    </tr>\n",
              "    <tr>\n",
              "      <th>1767</th>\n",
              "      <td>2018-04-01</td>\n",
              "      <td>2.80</td>\n",
              "      <td>2642.19</td>\n",
              "      <td>NaN</td>\n",
              "    </tr>\n",
              "  </tbody>\n",
              "</table>\n",
              "<p>820 rows × 4 columns</p>\n",
              "</div>"
            ],
            "text/plain": [
              "            Date  Long Interest Rate  Real Price  Real Dividend\n",
              "948   1950-01-01                2.32      179.46          12.23\n",
              "949   1950-02-01                2.34      182.96          12.33\n",
              "950   1950-03-01                2.36      183.67          12.39\n",
              "951   1950-04-01                2.38      188.86          12.49\n",
              "952   1950-05-01                2.40      194.39          12.54\n",
              "...          ...                 ...         ...            ...\n",
              "1763  2017-12-01                2.40     2700.13          49.59\n",
              "1764  2018-01-01                2.58     2811.96          49.68\n",
              "1765  2018-02-01                2.86     2714.34          49.81\n",
              "1766  2018-03-01                2.84     2705.82          50.06\n",
              "1767  2018-04-01                2.80     2642.19            NaN\n",
              "\n",
              "[820 rows x 4 columns]"
            ]
          },
          "metadata": {
            "tags": []
          },
          "execution_count": 21
        }
      ]
    },
    {
      "cell_type": "code",
      "metadata": {
        "colab": {
          "base_uri": "https://localhost:8080/"
        },
        "id": "QxzXHbLbE5UN",
        "outputId": "56f1b0ba-bcac-436a-a978-b4e62542a8c6"
      },
      "source": [
        "data_frame.isna().sum()"
      ],
      "execution_count": 22,
      "outputs": [
        {
          "output_type": "execute_result",
          "data": {
            "text/plain": [
              "Date                  0\n",
              "Long Interest Rate    0\n",
              "Real Price            0\n",
              "Real Dividend         1\n",
              "dtype: int64"
            ]
          },
          "metadata": {
            "tags": []
          },
          "execution_count": 22
        }
      ]
    },
    {
      "cell_type": "code",
      "metadata": {
        "colab": {
          "base_uri": "https://localhost:8080/",
          "height": 516
        },
        "id": "OOTizYw9GMar",
        "outputId": "5f4d9d78-72f2-42c8-891b-75d190ded244"
      },
      "source": [
        "data_frame.fillna(method='ffill', inplace=True)\n",
        "data_frame"
      ],
      "execution_count": 23,
      "outputs": [
        {
          "output_type": "stream",
          "text": [
            "/usr/local/lib/python3.6/dist-packages/pandas/core/frame.py:4327: SettingWithCopyWarning: \n",
            "A value is trying to be set on a copy of a slice from a DataFrame\n",
            "\n",
            "See the caveats in the documentation: https://pandas.pydata.org/pandas-docs/stable/user_guide/indexing.html#returning-a-view-versus-a-copy\n",
            "  downcast=downcast,\n"
          ],
          "name": "stderr"
        },
        {
          "output_type": "execute_result",
          "data": {
            "text/html": [
              "<div>\n",
              "<style scoped>\n",
              "    .dataframe tbody tr th:only-of-type {\n",
              "        vertical-align: middle;\n",
              "    }\n",
              "\n",
              "    .dataframe tbody tr th {\n",
              "        vertical-align: top;\n",
              "    }\n",
              "\n",
              "    .dataframe thead th {\n",
              "        text-align: right;\n",
              "    }\n",
              "</style>\n",
              "<table border=\"1\" class=\"dataframe\">\n",
              "  <thead>\n",
              "    <tr style=\"text-align: right;\">\n",
              "      <th></th>\n",
              "      <th>Date</th>\n",
              "      <th>Long Interest Rate</th>\n",
              "      <th>Real Price</th>\n",
              "      <th>Real Dividend</th>\n",
              "    </tr>\n",
              "  </thead>\n",
              "  <tbody>\n",
              "    <tr>\n",
              "      <th>948</th>\n",
              "      <td>1950-01-01</td>\n",
              "      <td>2.32</td>\n",
              "      <td>179.46</td>\n",
              "      <td>12.23</td>\n",
              "    </tr>\n",
              "    <tr>\n",
              "      <th>949</th>\n",
              "      <td>1950-02-01</td>\n",
              "      <td>2.34</td>\n",
              "      <td>182.96</td>\n",
              "      <td>12.33</td>\n",
              "    </tr>\n",
              "    <tr>\n",
              "      <th>950</th>\n",
              "      <td>1950-03-01</td>\n",
              "      <td>2.36</td>\n",
              "      <td>183.67</td>\n",
              "      <td>12.39</td>\n",
              "    </tr>\n",
              "    <tr>\n",
              "      <th>951</th>\n",
              "      <td>1950-04-01</td>\n",
              "      <td>2.38</td>\n",
              "      <td>188.86</td>\n",
              "      <td>12.49</td>\n",
              "    </tr>\n",
              "    <tr>\n",
              "      <th>952</th>\n",
              "      <td>1950-05-01</td>\n",
              "      <td>2.40</td>\n",
              "      <td>194.39</td>\n",
              "      <td>12.54</td>\n",
              "    </tr>\n",
              "    <tr>\n",
              "      <th>...</th>\n",
              "      <td>...</td>\n",
              "      <td>...</td>\n",
              "      <td>...</td>\n",
              "      <td>...</td>\n",
              "    </tr>\n",
              "    <tr>\n",
              "      <th>1763</th>\n",
              "      <td>2017-12-01</td>\n",
              "      <td>2.40</td>\n",
              "      <td>2700.13</td>\n",
              "      <td>49.59</td>\n",
              "    </tr>\n",
              "    <tr>\n",
              "      <th>1764</th>\n",
              "      <td>2018-01-01</td>\n",
              "      <td>2.58</td>\n",
              "      <td>2811.96</td>\n",
              "      <td>49.68</td>\n",
              "    </tr>\n",
              "    <tr>\n",
              "      <th>1765</th>\n",
              "      <td>2018-02-01</td>\n",
              "      <td>2.86</td>\n",
              "      <td>2714.34</td>\n",
              "      <td>49.81</td>\n",
              "    </tr>\n",
              "    <tr>\n",
              "      <th>1766</th>\n",
              "      <td>2018-03-01</td>\n",
              "      <td>2.84</td>\n",
              "      <td>2705.82</td>\n",
              "      <td>50.06</td>\n",
              "    </tr>\n",
              "    <tr>\n",
              "      <th>1767</th>\n",
              "      <td>2018-04-01</td>\n",
              "      <td>2.80</td>\n",
              "      <td>2642.19</td>\n",
              "      <td>50.06</td>\n",
              "    </tr>\n",
              "  </tbody>\n",
              "</table>\n",
              "<p>820 rows × 4 columns</p>\n",
              "</div>"
            ],
            "text/plain": [
              "            Date  Long Interest Rate  Real Price  Real Dividend\n",
              "948   1950-01-01                2.32      179.46          12.23\n",
              "949   1950-02-01                2.34      182.96          12.33\n",
              "950   1950-03-01                2.36      183.67          12.39\n",
              "951   1950-04-01                2.38      188.86          12.49\n",
              "952   1950-05-01                2.40      194.39          12.54\n",
              "...          ...                 ...         ...            ...\n",
              "1763  2017-12-01                2.40     2700.13          49.59\n",
              "1764  2018-01-01                2.58     2811.96          49.68\n",
              "1765  2018-02-01                2.86     2714.34          49.81\n",
              "1766  2018-03-01                2.84     2705.82          50.06\n",
              "1767  2018-04-01                2.80     2642.19          50.06\n",
              "\n",
              "[820 rows x 4 columns]"
            ]
          },
          "metadata": {
            "tags": []
          },
          "execution_count": 23
        }
      ]
    },
    {
      "cell_type": "code",
      "metadata": {
        "id": "tz_hAZMXAjfD",
        "colab": {
          "base_uri": "https://localhost:8080/",
          "height": 534
        },
        "outputId": "0b367053-6b06-4ac1-df57-94bcb977bdda"
      },
      "source": [
        "data_frame['Real Price Label'] = data_frame['Real Price'].shift(-3)\n",
        "data_frame"
      ],
      "execution_count": 24,
      "outputs": [
        {
          "output_type": "stream",
          "text": [
            "/usr/local/lib/python3.6/dist-packages/ipykernel_launcher.py:1: SettingWithCopyWarning: \n",
            "A value is trying to be set on a copy of a slice from a DataFrame.\n",
            "Try using .loc[row_indexer,col_indexer] = value instead\n",
            "\n",
            "See the caveats in the documentation: https://pandas.pydata.org/pandas-docs/stable/user_guide/indexing.html#returning-a-view-versus-a-copy\n",
            "  \"\"\"Entry point for launching an IPython kernel.\n"
          ],
          "name": "stderr"
        },
        {
          "output_type": "execute_result",
          "data": {
            "text/html": [
              "<div>\n",
              "<style scoped>\n",
              "    .dataframe tbody tr th:only-of-type {\n",
              "        vertical-align: middle;\n",
              "    }\n",
              "\n",
              "    .dataframe tbody tr th {\n",
              "        vertical-align: top;\n",
              "    }\n",
              "\n",
              "    .dataframe thead th {\n",
              "        text-align: right;\n",
              "    }\n",
              "</style>\n",
              "<table border=\"1\" class=\"dataframe\">\n",
              "  <thead>\n",
              "    <tr style=\"text-align: right;\">\n",
              "      <th></th>\n",
              "      <th>Date</th>\n",
              "      <th>Long Interest Rate</th>\n",
              "      <th>Real Price</th>\n",
              "      <th>Real Dividend</th>\n",
              "      <th>Real Price Label</th>\n",
              "    </tr>\n",
              "  </thead>\n",
              "  <tbody>\n",
              "    <tr>\n",
              "      <th>948</th>\n",
              "      <td>1950-01-01</td>\n",
              "      <td>2.32</td>\n",
              "      <td>179.46</td>\n",
              "      <td>12.23</td>\n",
              "      <td>188.86</td>\n",
              "    </tr>\n",
              "    <tr>\n",
              "      <th>949</th>\n",
              "      <td>1950-02-01</td>\n",
              "      <td>2.34</td>\n",
              "      <td>182.96</td>\n",
              "      <td>12.33</td>\n",
              "      <td>194.39</td>\n",
              "    </tr>\n",
              "    <tr>\n",
              "      <th>950</th>\n",
              "      <td>1950-03-01</td>\n",
              "      <td>2.36</td>\n",
              "      <td>183.67</td>\n",
              "      <td>12.39</td>\n",
              "      <td>196.72</td>\n",
              "    </tr>\n",
              "    <tr>\n",
              "      <th>951</th>\n",
              "      <td>1950-04-01</td>\n",
              "      <td>2.38</td>\n",
              "      <td>188.86</td>\n",
              "      <td>12.49</td>\n",
              "      <td>180.17</td>\n",
              "    </tr>\n",
              "    <tr>\n",
              "      <th>952</th>\n",
              "      <td>1950-05-01</td>\n",
              "      <td>2.40</td>\n",
              "      <td>194.39</td>\n",
              "      <td>12.54</td>\n",
              "      <td>189.48</td>\n",
              "    </tr>\n",
              "    <tr>\n",
              "      <th>...</th>\n",
              "      <td>...</td>\n",
              "      <td>...</td>\n",
              "      <td>...</td>\n",
              "      <td>...</td>\n",
              "      <td>...</td>\n",
              "    </tr>\n",
              "    <tr>\n",
              "      <th>1763</th>\n",
              "      <td>2017-12-01</td>\n",
              "      <td>2.40</td>\n",
              "      <td>2700.13</td>\n",
              "      <td>49.59</td>\n",
              "      <td>2705.82</td>\n",
              "    </tr>\n",
              "    <tr>\n",
              "      <th>1764</th>\n",
              "      <td>2018-01-01</td>\n",
              "      <td>2.58</td>\n",
              "      <td>2811.96</td>\n",
              "      <td>49.68</td>\n",
              "      <td>2642.19</td>\n",
              "    </tr>\n",
              "    <tr>\n",
              "      <th>1765</th>\n",
              "      <td>2018-02-01</td>\n",
              "      <td>2.86</td>\n",
              "      <td>2714.34</td>\n",
              "      <td>49.81</td>\n",
              "      <td>NaN</td>\n",
              "    </tr>\n",
              "    <tr>\n",
              "      <th>1766</th>\n",
              "      <td>2018-03-01</td>\n",
              "      <td>2.84</td>\n",
              "      <td>2705.82</td>\n",
              "      <td>50.06</td>\n",
              "      <td>NaN</td>\n",
              "    </tr>\n",
              "    <tr>\n",
              "      <th>1767</th>\n",
              "      <td>2018-04-01</td>\n",
              "      <td>2.80</td>\n",
              "      <td>2642.19</td>\n",
              "      <td>50.06</td>\n",
              "      <td>NaN</td>\n",
              "    </tr>\n",
              "  </tbody>\n",
              "</table>\n",
              "<p>820 rows × 5 columns</p>\n",
              "</div>"
            ],
            "text/plain": [
              "            Date  Long Interest Rate  ...  Real Dividend  Real Price Label\n",
              "948   1950-01-01                2.32  ...          12.23            188.86\n",
              "949   1950-02-01                2.34  ...          12.33            194.39\n",
              "950   1950-03-01                2.36  ...          12.39            196.72\n",
              "951   1950-04-01                2.38  ...          12.49            180.17\n",
              "952   1950-05-01                2.40  ...          12.54            189.48\n",
              "...          ...                 ...  ...            ...               ...\n",
              "1763  2017-12-01                2.40  ...          49.59           2705.82\n",
              "1764  2018-01-01                2.58  ...          49.68           2642.19\n",
              "1765  2018-02-01                2.86  ...          49.81               NaN\n",
              "1766  2018-03-01                2.84  ...          50.06               NaN\n",
              "1767  2018-04-01                2.80  ...          50.06               NaN\n",
              "\n",
              "[820 rows x 5 columns]"
            ]
          },
          "metadata": {
            "tags": []
          },
          "execution_count": 24
        }
      ]
    },
    {
      "cell_type": "code",
      "metadata": {
        "id": "tN11lRrtAjb_"
      },
      "source": [
        "#Drop Nan Values et begin preprocessing"
      ],
      "execution_count": null,
      "outputs": []
    }
  ]
}