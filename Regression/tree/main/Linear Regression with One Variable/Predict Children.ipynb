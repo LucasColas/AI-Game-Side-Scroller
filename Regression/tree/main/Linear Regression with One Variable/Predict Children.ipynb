{
  "nbformat": 4,
  "nbformat_minor": 0,
  "metadata": {
    "colab": {
      "name": "TestRegression.ipynb",
      "provenance": [],
      "authorship_tag": "ABX9TyPfX/jhyuNePvoV20eMOeKl",
      "include_colab_link": true
    },
    "kernelspec": {
      "name": "python3",
      "display_name": "Python 3"
    }
  },
  "cells": [
    {
      "cell_type": "markdown",
      "metadata": {
        "id": "view-in-github",
        "colab_type": "text"
      },
      "source": [
        "<a href=\"https://colab.research.google.com/github/LucasColas/AI-Game-Side-Scroller/blob/master/Regression/tree/main/Linear%20Regression%20with%20One%20Variable/Predict%20Children.ipynb\" target=\"_parent\"><img src=\"https://colab.research.google.com/assets/colab-badge.svg\" alt=\"Open In Colab\"/></a>"
      ]
    },
    {
      "cell_type": "code",
      "metadata": {
        "id": "DXsqiRaNfcn0"
      },
      "source": [
        "import numpy as np\n",
        "from sklearn import preprocessing\n",
        "from sklearn import model_selection\n",
        "from sklearn import linear_model\n",
        "import matplotlib.pyplot as plt\n"
      ],
      "execution_count": 3,
      "outputs": []
    },
    {
      "cell_type": "code",
      "metadata": {
        "id": "en4Q8-tofNQ8"
      },
      "source": [
        "fibonacci = [0,1,1,2,3,5,8,13,21,34,55,89,144]"
      ],
      "execution_count": null,
      "outputs": []
    },
    {
      "cell_type": "code",
      "metadata": {
        "colab": {
          "base_uri": "https://localhost:8080/"
        },
        "id": "Zd-syXR8fa1U",
        "outputId": "4bed13a6-dbbb-44ad-9adc-5e42b36f8390"
      },
      "source": [
        "features = preprocessing.scale(fibonacci)\n",
        "features"
      ],
      "execution_count": null,
      "outputs": [
        {
          "output_type": "execute_result",
          "data": {
            "text/plain": [
              "array([-0.6925069 , -0.66856384, -0.66856384, -0.64462079, -0.62067773,\n",
              "       -0.57279161, -0.50096244, -0.38124715, -0.18970269,  0.12155706,\n",
              "        0.62436127,  1.43842524,  2.75529341])"
            ]
          },
          "metadata": {
            "tags": []
          },
          "execution_count": 6
        }
      ]
    },
    {
      "cell_type": "code",
      "metadata": {
        "colab": {
          "base_uri": "https://localhost:8080/"
        },
        "id": "Cka6CCuEfbSK",
        "outputId": "144f06ff-fd08-4d5e-b92f-70e56ec826d5"
      },
      "source": [
        "label = np.array(range(13))\n",
        "label"
      ],
      "execution_count": null,
      "outputs": [
        {
          "output_type": "execute_result",
          "data": {
            "text/plain": [
              "array([ 0,  1,  2,  3,  4,  5,  6,  7,  8,  9, 10, 11, 12])"
            ]
          },
          "metadata": {
            "tags": []
          },
          "execution_count": 8
        }
      ]
    },
    {
      "cell_type": "code",
      "metadata": {
        "id": "KH7GXJPGgaEQ"
      },
      "source": [
        "(x_train, x_test, y_train, y_test) = model_selection.train_test_split(features, label, test_size = 0.1, random_state=7)"
      ],
      "execution_count": null,
      "outputs": []
    },
    {
      "cell_type": "code",
      "metadata": {
        "colab": {
          "base_uri": "https://localhost:8080/"
        },
        "id": "URyjkqwvhmqC",
        "outputId": "b860f403-70f8-4e5d-e60b-09cf13c5bf4f"
      },
      "source": [
        "x_train"
      ],
      "execution_count": null,
      "outputs": [
        {
          "output_type": "execute_result",
          "data": {
            "text/plain": [
              "array([-0.66856384, -0.57279161, -0.6925069 , -0.66856384,  2.75529341,\n",
              "       -0.38124715,  1.43842524, -0.64462079, -0.50096244,  0.12155706,\n",
              "       -0.62067773])"
            ]
          },
          "metadata": {
            "tags": []
          },
          "execution_count": 14
        }
      ]
    },
    {
      "cell_type": "code",
      "metadata": {
        "colab": {
          "base_uri": "https://localhost:8080/"
        },
        "id": "tQ-fRAALhton",
        "outputId": "874382ac-22e4-4a67-f9be-dc952f880306"
      },
      "source": [
        "x_test"
      ],
      "execution_count": null,
      "outputs": [
        {
          "output_type": "execute_result",
          "data": {
            "text/plain": [
              "array([-0.18970269,  0.62436127])"
            ]
          },
          "metadata": {
            "tags": []
          },
          "execution_count": 15
        }
      ]
    },
    {
      "cell_type": "code",
      "metadata": {
        "colab": {
          "base_uri": "https://localhost:8080/"
        },
        "id": "uW3NZXhOiM0l",
        "outputId": "dc9d8b34-fdb3-4cfb-94e2-76eb50b0d574"
      },
      "source": [
        "y_train"
      ],
      "execution_count": null,
      "outputs": [
        {
          "output_type": "execute_result",
          "data": {
            "text/plain": [
              "array([ 2,  5,  0,  1, 12,  7, 11,  3,  6,  9,  4])"
            ]
          },
          "metadata": {
            "tags": []
          },
          "execution_count": 16
        }
      ]
    },
    {
      "cell_type": "code",
      "metadata": {
        "colab": {
          "base_uri": "https://localhost:8080/"
        },
        "id": "CqH61zl_iPS9",
        "outputId": "831cc16d-f9e9-4e5c-81a1-9a1dad8d51a6"
      },
      "source": [
        "y_test"
      ],
      "execution_count": null,
      "outputs": [
        {
          "output_type": "execute_result",
          "data": {
            "text/plain": [
              "array([ 8, 10])"
            ]
          },
          "metadata": {
            "tags": []
          },
          "execution_count": 17
        }
      ]
    },
    {
      "cell_type": "code",
      "metadata": {
        "colab": {
          "base_uri": "https://localhost:8080/"
        },
        "id": "qaH8ddmSnDEg",
        "outputId": "49454269-9455-4455-edc2-61dea4586861"
      },
      "source": [
        "test = np.array([[2,3],[3,5],[3,5]])\n",
        "test.shape"
      ],
      "execution_count": null,
      "outputs": [
        {
          "output_type": "execute_result",
          "data": {
            "text/plain": [
              "(3, 2)"
            ]
          },
          "metadata": {
            "tags": []
          },
          "execution_count": 21
        }
      ]
    },
    {
      "cell_type": "code",
      "metadata": {
        "id": "fUk0erdriYuN"
      },
      "source": [
        "x_train = x_train.reshape(-1,1)\n",
        "x_test = x_test.reshape(-1,1)\n",
        "\n"
      ],
      "execution_count": null,
      "outputs": []
    },
    {
      "cell_type": "code",
      "metadata": {
        "colab": {
          "base_uri": "https://localhost:8080/"
        },
        "id": "JD8I6AeAnsJz",
        "outputId": "ce1f3f4a-eb39-4f95-9fc2-434e9b1334df"
      },
      "source": [
        "linear_regression = linear_model.LinearRegression()\n",
        "model = linear_regression.fit(x_train, y_train)\n",
        "model.predict(x_test)\n"
      ],
      "execution_count": null,
      "outputs": [
        {
          "output_type": "execute_result",
          "data": {
            "text/plain": [
              "array([5.00733774, 7.43133316])"
            ]
          },
          "metadata": {
            "tags": []
          },
          "execution_count": 26
        }
      ]
    },
    {
      "cell_type": "code",
      "metadata": {
        "colab": {
          "base_uri": "https://localhost:8080/"
        },
        "id": "SdTMhu-ooK1z",
        "outputId": "3fabcf18-a261-482f-c454-7de452ef4522"
      },
      "source": [
        "model.score(x_test, y_test)"
      ],
      "execution_count": null,
      "outputs": [
        {
          "output_type": "execute_result",
          "data": {
            "text/plain": [
              "-6.777038352927916"
            ]
          },
          "metadata": {
            "tags": []
          },
          "execution_count": 27
        }
      ]
    },
    {
      "cell_type": "code",
      "metadata": {
        "colab": {
          "base_uri": "https://localhost:8080/"
        },
        "id": "nJm--2nKpYN8",
        "outputId": "8d670791-62f5-4454-d05a-b5e6d5070058"
      },
      "source": [
        "x = np.array(range(1,14))\n",
        "y = np.array([2,8,8,18,25,21,32, 44,32,48,61,45,62])\n",
        "[a,b] = np.polyfit(x,y,1)\n",
        "[a,b]"
      ],
      "execution_count": null,
      "outputs": [
        {
          "output_type": "execute_result",
          "data": {
            "text/plain": [
              "[4.857142857142857, -2.769230769230768]"
            ]
          },
          "metadata": {
            "tags": []
          },
          "execution_count": 30
        }
      ]
    },
    {
      "cell_type": "code",
      "metadata": {
        "colab": {
          "base_uri": "https://localhost:8080/",
          "height": 265
        },
        "id": "PV3BnEsOwNcu",
        "outputId": "ba52cc33-ac3f-4f35-a16c-f1675e3f538e"
      },
      "source": [
        "x = np.array(range(1,14))\n",
        "y = np.array([2,8,8,18,25,21,32, 44,32,48,61,45,62])\n",
        "x_2 = x**2\n",
        "xy = x*y\n",
        "sum_x = sum(x)\n",
        "sum_y = sum(y)\n",
        "sum_x_2 = sum(x_2)\n",
        "sum_xy = sum(xy)\n",
        "\n",
        "N = len(x)\n",
        "\n",
        "a = (N*sum_xy - (sum_x*sum_y))/(N*sum_x_2-(sum_x)**2)\n",
        "b = (sum_y - a*sum_x)/N\n",
        "\n",
        "plt.scatter(x,y)\n",
        "\n",
        "plt.plot([0,15], [b,15*a+b])\n",
        "plt.show()"
      ],
      "execution_count": null,
      "outputs": [
        {
          "output_type": "display_data",
          "data": {
            "image/png": "[encoded data removed]",
            "text/plain": [
              "<Figure size 432x288 with 1 Axes>"
            ]
          },
          "metadata": {
            "tags": [],
            "needs_background": "light"
          }
        }
      ]
    },
    {
      "cell_type": "code",
      "metadata": {
        "id": "-WFuj6KWxcqE"
      },
      "source": [
        "def fitY( arr ):\n",
        "  return [4.857142857142857*x -2.769230769230768 for x in arr]"
      ],
      "execution_count": null,
      "outputs": []
    },
    {
      "cell_type": "code",
      "metadata": {
        "colab": {
          "base_uri": "https://localhost:8080/",
          "height": 302
        },
        "id": "_nBpOdCFx7CX",
        "outputId": "429283f2-7103-4dd9-f249-0a77f08d57f1"
      },
      "source": [
        "plt.plot(x,y, 'go', x, fitY(x), 'r--o')"
      ],
      "execution_count": null,
      "outputs": [
        {
          "output_type": "execute_result",
          "data": {
            "text/plain": [
              "[<matplotlib.lines.Line2D at 0x7f60e6d32be0>,\n",
              " <matplotlib.lines.Line2D at 0x7f60e6d32d30>]"
            ]
          },
          "metadata": {
            "tags": []
          },
          "execution_count": 7
        },
        {
          "output_type": "display_data",
          "data": {
            "image/png": "[encoded data removed]",
            "text/plain": [
              "<Figure size 432x288 with 1 Axes>"
            ]
          },
          "metadata": {
            "tags": [],
            "needs_background": "light"
          }
        }
      ]
    },
    {
      "cell_type": "code",
      "metadata": {
        "colab": {
          "base_uri": "https://localhost:8080/"
        },
        "id": "M_AwiWK9Arqg",
        "outputId": "5b86b7f1-c5d4-444c-d352-39f2694d606a"
      },
      "source": [
        "x = np.array(range(-10,10,1))\n",
        "f = np.poly1d([-1,3,-2])\n",
        "\n",
        "f(x) #-(-10)^2+3*(-10) -2 = -100 - 30 - 2 = -132"
      ],
      "execution_count": null,
      "outputs": [
        {
          "output_type": "execute_result",
          "data": {
            "text/plain": [
              "array([-132, -110,  -90,  -72,  -56,  -42,  -30,  -20,  -12,   -6,   -2,\n",
              "          0,    0,   -2,   -6,  -12,  -20,  -30,  -42,  -56])"
            ]
          },
          "metadata": {
            "tags": []
          },
          "execution_count": 10
        }
      ]
    },
    {
      "cell_type": "code",
      "metadata": {
        "colab": {
          "base_uri": "https://localhost:8080/",
          "height": 283
        },
        "id": "kYLqLYQ1EdMK",
        "outputId": "9504b292-c7ba-4000-b381-d6012445dd8f"
      },
      "source": [
        "\n",
        "plt.plot(x,f(x))\n"
      ],
      "execution_count": null,
      "outputs": [
        {
          "output_type": "execute_result",
          "data": {
            "text/plain": [
              "[<matplotlib.lines.Line2D at 0x7f60e6ad6eb8>]"
            ]
          },
          "metadata": {
            "tags": []
          },
          "execution_count": 11
        },
        {
          "output_type": "display_data",
          "data": {
            "image/png": "[encoded data removed]",
            "text/plain": [
              "<Figure size 432x288 with 1 Axes>"
            ]
          },
          "metadata": {
            "tags": [],
            "needs_background": "light"
          }
        }
      ]
    },
    {
      "cell_type": "markdown",
      "metadata": {
        "id": "7tfXOqtfLA-q"
      },
      "source": [
        "# **Predict population**"
      ]
    },
    {
      "cell_type": "code",
      "metadata": {
        "id": "c6MjKnjgE4SD"
      },
      "source": [
        "import pandas as pd\n"
      ],
      "execution_count": 4,
      "outputs": []
    },
    {
      "cell_type": "code",
      "metadata": {
        "colab": {
          "base_uri": "https://localhost:8080/",
          "height": 614
        },
        "id": "mI4sk_bEFDi7",
        "outputId": "722a5155-51f5-4d5c-a800-93ba78e88cf0"
      },
      "source": [
        "url = 'https://raw.githubusercontent.com/PacktWorkshops/The-Applied-Artificial-Intelligence-Workshop/master/Datasets/population.csv'\n",
        "df = pd.read_csv(url)\n",
        "df\n"
      ],
      "execution_count": 5,
      "outputs": [
        {
          "output_type": "execute_result",
          "data": {
            "text/html": [
              "<div>\n",
              "<style scoped>\n",
              "    .dataframe tbody tr th:only-of-type {\n",
              "        vertical-align: middle;\n",
              "    }\n",
              "\n",
              "    .dataframe tbody tr th {\n",
              "        vertical-align: top;\n",
              "    }\n",
              "\n",
              "    .dataframe thead th {\n",
              "        text-align: right;\n",
              "    }\n",
              "</style>\n",
              "<table border=\"1\" class=\"dataframe\">\n",
              "  <thead>\n",
              "    <tr style=\"text-align: right;\">\n",
              "      <th></th>\n",
              "      <th>year</th>\n",
              "      <th>population</th>\n",
              "    </tr>\n",
              "  </thead>\n",
              "  <tbody>\n",
              "    <tr>\n",
              "      <th>0</th>\n",
              "      <td>2001</td>\n",
              "      <td>147026</td>\n",
              "    </tr>\n",
              "    <tr>\n",
              "      <th>1</th>\n",
              "      <td>2002</td>\n",
              "      <td>144272</td>\n",
              "    </tr>\n",
              "    <tr>\n",
              "      <th>2</th>\n",
              "      <td>2003</td>\n",
              "      <td>140020</td>\n",
              "    </tr>\n",
              "    <tr>\n",
              "      <th>3</th>\n",
              "      <td>2004</td>\n",
              "      <td>143801</td>\n",
              "    </tr>\n",
              "    <tr>\n",
              "      <th>4</th>\n",
              "      <td>2005</td>\n",
              "      <td>146233</td>\n",
              "    </tr>\n",
              "    <tr>\n",
              "      <th>5</th>\n",
              "      <td>2006</td>\n",
              "      <td>144539</td>\n",
              "    </tr>\n",
              "    <tr>\n",
              "      <th>6</th>\n",
              "      <td>2007</td>\n",
              "      <td>141273</td>\n",
              "    </tr>\n",
              "    <tr>\n",
              "      <th>7</th>\n",
              "      <td>2008</td>\n",
              "      <td>135389</td>\n",
              "    </tr>\n",
              "    <tr>\n",
              "      <th>8</th>\n",
              "      <td>2009</td>\n",
              "      <td>142500</td>\n",
              "    </tr>\n",
              "    <tr>\n",
              "      <th>9</th>\n",
              "      <td>2010</td>\n",
              "      <td>139452</td>\n",
              "    </tr>\n",
              "    <tr>\n",
              "      <th>10</th>\n",
              "      <td>2011</td>\n",
              "      <td>139722</td>\n",
              "    </tr>\n",
              "    <tr>\n",
              "      <th>11</th>\n",
              "      <td>2012</td>\n",
              "      <td>135300</td>\n",
              "    </tr>\n",
              "    <tr>\n",
              "      <th>12</th>\n",
              "      <td>2013</td>\n",
              "      <td>137289</td>\n",
              "    </tr>\n",
              "    <tr>\n",
              "      <th>13</th>\n",
              "      <td>2014</td>\n",
              "      <td>136511</td>\n",
              "    </tr>\n",
              "    <tr>\n",
              "      <th>14</th>\n",
              "      <td>2015</td>\n",
              "      <td>132884</td>\n",
              "    </tr>\n",
              "    <tr>\n",
              "      <th>15</th>\n",
              "      <td>2016</td>\n",
              "      <td>125683</td>\n",
              "    </tr>\n",
              "    <tr>\n",
              "      <th>16</th>\n",
              "      <td>2017</td>\n",
              "      <td>127255</td>\n",
              "    </tr>\n",
              "    <tr>\n",
              "      <th>17</th>\n",
              "      <td>2018</td>\n",
              "      <td>124275</td>\n",
              "    </tr>\n",
              "  </tbody>\n",
              "</table>\n",
              "</div>"
            ],
            "text/plain": [
              "    year  population\n",
              "0   2001      147026\n",
              "1   2002      144272\n",
              "2   2003      140020\n",
              "3   2004      143801\n",
              "4   2005      146233\n",
              "5   2006      144539\n",
              "6   2007      141273\n",
              "7   2008      135389\n",
              "8   2009      142500\n",
              "9   2010      139452\n",
              "10  2011      139722\n",
              "11  2012      135300\n",
              "12  2013      137289\n",
              "13  2014      136511\n",
              "14  2015      132884\n",
              "15  2016      125683\n",
              "16  2017      127255\n",
              "17  2018      124275"
            ]
          },
          "metadata": {
            "tags": []
          },
          "execution_count": 5
        }
      ]
    },
    {
      "cell_type": "code",
      "metadata": {
        "colab": {
          "base_uri": "https://localhost:8080/",
          "height": 206
        },
        "id": "1TtMQWFyGOUT",
        "outputId": "6d594dd9-c3c4-4eb3-8bf8-92f180c2225d"
      },
      "source": [
        "df.head()"
      ],
      "execution_count": 6,
      "outputs": [
        {
          "output_type": "execute_result",
          "data": {
            "text/html": [
              "<div>\n",
              "<style scoped>\n",
              "    .dataframe tbody tr th:only-of-type {\n",
              "        vertical-align: middle;\n",
              "    }\n",
              "\n",
              "    .dataframe tbody tr th {\n",
              "        vertical-align: top;\n",
              "    }\n",
              "\n",
              "    .dataframe thead th {\n",
              "        text-align: right;\n",
              "    }\n",
              "</style>\n",
              "<table border=\"1\" class=\"dataframe\">\n",
              "  <thead>\n",
              "    <tr style=\"text-align: right;\">\n",
              "      <th></th>\n",
              "      <th>year</th>\n",
              "      <th>population</th>\n",
              "    </tr>\n",
              "  </thead>\n",
              "  <tbody>\n",
              "    <tr>\n",
              "      <th>0</th>\n",
              "      <td>2001</td>\n",
              "      <td>147026</td>\n",
              "    </tr>\n",
              "    <tr>\n",
              "      <th>1</th>\n",
              "      <td>2002</td>\n",
              "      <td>144272</td>\n",
              "    </tr>\n",
              "    <tr>\n",
              "      <th>2</th>\n",
              "      <td>2003</td>\n",
              "      <td>140020</td>\n",
              "    </tr>\n",
              "    <tr>\n",
              "      <th>3</th>\n",
              "      <td>2004</td>\n",
              "      <td>143801</td>\n",
              "    </tr>\n",
              "    <tr>\n",
              "      <th>4</th>\n",
              "      <td>2005</td>\n",
              "      <td>146233</td>\n",
              "    </tr>\n",
              "  </tbody>\n",
              "</table>\n",
              "</div>"
            ],
            "text/plain": [
              "   year  population\n",
              "0  2001      147026\n",
              "1  2002      144272\n",
              "2  2003      140020\n",
              "3  2004      143801\n",
              "4  2005      146233"
            ]
          },
          "metadata": {
            "tags": []
          },
          "execution_count": 6
        }
      ]
    },
    {
      "cell_type": "code",
      "metadata": {
        "colab": {
          "base_uri": "https://localhost:8080/",
          "height": 283
        },
        "id": "CIVj2bUZHLhO",
        "outputId": "e6014e79-242e-4cdc-fe77-f450e0e6e330"
      },
      "source": [
        "plt.scatter(df['year'], df['population'], color='red')"
      ],
      "execution_count": 7,
      "outputs": [
        {
          "output_type": "execute_result",
          "data": {
            "text/plain": [
              "<matplotlib.collections.PathCollection at 0x7f07cdc8cf28>"
            ]
          },
          "metadata": {
            "tags": []
          },
          "execution_count": 7
        },
        {
          "output_type": "display_data",
          "data": {
            "image/png": "[encoded data removed]",
            "text/plain": [
              "<Figure size 432x288 with 1 Axes>"
            ]
          },
          "metadata": {
            "tags": [],
            "needs_background": "light"
          }
        }
      ]
    },
    {
      "cell_type": "code",
      "metadata": {
        "id": "GUFvpl_7HxlI"
      },
      "source": [
        ""
      ],
      "execution_count": null,
      "outputs": []
    },
    {
      "cell_type": "code",
      "metadata": {
        "colab": {
          "base_uri": "https://localhost:8080/"
        },
        "id": "hNO4GoyAFgph",
        "outputId": "fc4146b8-38dc-4989-fb50-cd139004f12f"
      },
      "source": [
        "#Convert DataFrame into Numpy Arrays\n",
        "\n",
        "x = np.array(range(2001, 2019))\n",
        "print(x)\n",
        "y = np.array(df['population'])\n",
        "print(y)"
      ],
      "execution_count": 42,
      "outputs": [
        {
          "output_type": "stream",
          "text": [
            "[2001 2002 2003 2004 2005 2006 2007 2008 2009 2010 2011 2012 2013 2014\n",
            " 2015 2016 2017 2018]\n",
            "[147026 144272 140020 143801 146233 144539 141273 135389 142500 139452\n",
            " 139722 135300 137289 136511 132884 125683 127255 124275]\n"
          ],
          "name": "stdout"
        }
      ]
    },
    {
      "cell_type": "code",
      "metadata": {
        "colab": {
          "base_uri": "https://localhost:8080/"
        },
        "id": "feHG-fU5I1xz",
        "outputId": "3b094221-ed22-44f7-d684-d25342e50e6b"
      },
      "source": [
        "[a,b] = np.polyfit(x,y,1)\n",
        "[a,b]"
      ],
      "execution_count": 43,
      "outputs": [
        {
          "output_type": "execute_result",
          "data": {
            "text/plain": [
              "[-1142.055727554142, 2432928.9845200484]"
            ]
          },
          "metadata": {
            "tags": []
          },
          "execution_count": 43
        }
      ]
    },
    {
      "cell_type": "code",
      "metadata": {
        "colab": {
          "base_uri": "https://localhost:8080/",
          "height": 283
        },
        "id": "G898Fvu9JCKH",
        "outputId": "f633ae5b-1257-4d9a-d72e-2c0e584aad0d"
      },
      "source": [
        "plt.scatter(x,y,color='red')\n",
        "plt.plot([0,18], [b, 15*a+b])\n",
        "plt.show()"
      ],
      "execution_count": null,
      "outputs": [
        {
          "output_type": "execute_result",
          "data": {
            "text/plain": [
              "<matplotlib.collections.PathCollection at 0x7f60e463def0>"
            ]
          },
          "metadata": {
            "tags": []
          },
          "execution_count": 29
        },
        {
          "output_type": "display_data",
          "data": {
            "image/png": "[encoded data removed]",
            "text/plain": [
              "<Figure size 432x288 with 1 Axes>"
            ]
          },
          "metadata": {
            "tags": [],
            "needs_background": "light"
          }
        }
      ]
    },
    {
      "cell_type": "code",
      "metadata": {
        "colab": {
          "base_uri": "https://localhost:8080/",
          "height": 265
        },
        "id": "1A6HjHHwJjFG",
        "outputId": "910966e1-438c-4c5d-89f8-dbe23ee8ff1f"
      },
      "source": [
        "plt.scatter(x,y,color='red')\n",
        "plt.plot([0,18], [b, 15*(-1500)+b]) #Rappeler over & under fitting\n",
        "plt.show()"
      ],
      "execution_count": null,
      "outputs": [
        {
          "output_type": "display_data",
          "data": {
            "image/png": "[encoded data removed]",
            "text/plain": [
              "<Figure size 432x288 with 1 Axes>"
            ]
          },
          "metadata": {
            "tags": [],
            "needs_background": "light"
          }
        }
      ]
    },
    {
      "cell_type": "code",
      "metadata": {
        "colab": {
          "base_uri": "https://localhost:8080/"
        },
        "id": "FlSumvxMbiIa",
        "outputId": "d2268b3c-e7d2-403a-8235-759f22fa49a5"
      },
      "source": [
        "features = x.reshape(-1,1)\n",
        "features"
      ],
      "execution_count": 44,
      "outputs": [
        {
          "output_type": "execute_result",
          "data": {
            "text/plain": [
              "array([[2001],\n",
              "       [2002],\n",
              "       [2003],\n",
              "       [2004],\n",
              "       [2005],\n",
              "       [2006],\n",
              "       [2007],\n",
              "       [2008],\n",
              "       [2009],\n",
              "       [2010],\n",
              "       [2011],\n",
              "       [2012],\n",
              "       [2013],\n",
              "       [2014],\n",
              "       [2015],\n",
              "       [2016],\n",
              "       [2017],\n",
              "       [2018]])"
            ]
          },
          "metadata": {
            "tags": []
          },
          "execution_count": 44
        }
      ]
    },
    {
      "cell_type": "code",
      "metadata": {
        "id": "aEc1nEhLZfVO"
      },
      "source": [
        "\n",
        "\n",
        "x_train, x_test, y_train, y_test = model_selection.train_test_split(features,y, test_size=0.2, random_state=8)"
      ],
      "execution_count": 45,
      "outputs": []
    },
    {
      "cell_type": "code",
      "metadata": {
        "colab": {
          "base_uri": "https://localhost:8080/"
        },
        "id": "cx9GpHZgZfRB",
        "outputId": "b4718158-6619-4995-faa4-b408d6502cb8"
      },
      "source": [
        "y_train"
      ],
      "execution_count": 46,
      "outputs": [
        {
          "output_type": "execute_result",
          "data": {
            "text/plain": [
              "array([146233, 135389, 140020, 137289, 144272, 125683, 147026, 136511,\n",
              "       124275, 142500, 139722, 144539, 139452, 143801])"
            ]
          },
          "metadata": {
            "tags": []
          },
          "execution_count": 46
        }
      ]
    },
    {
      "cell_type": "code",
      "metadata": {
        "colab": {
          "base_uri": "https://localhost:8080/"
        },
        "id": "qI0NeyfGZfNw",
        "outputId": "c3ba662f-e9e4-442b-e4d5-d6682b0a5dc0"
      },
      "source": [
        "lr = linear_model.LinearRegression()\n",
        "model = lr.fit(x_train, y_train)\n",
        "model.predict(x_test)"
      ],
      "execution_count": 47,
      "outputs": [
        {
          "output_type": "execute_result",
          "data": {
            "text/plain": [
              "array([131889.3006886 , 140801.45983168, 129661.26090283, 135231.36036725])"
            ]
          },
          "metadata": {
            "tags": []
          },
          "execution_count": 47
        }
      ]
    },
    {
      "cell_type": "code",
      "metadata": {
        "colab": {
          "base_uri": "https://localhost:8080/"
        },
        "id": "NWEkbp-DZfLP",
        "outputId": "dcb5c35f-f0c3-4359-ea3d-0e2e4df1e73c"
      },
      "source": [
        "value = np.array([[2030, 2040, 2050]])\n",
        "new_value = value.reshape(-1,1)\n",
        "\n",
        "model.predict(new_value)"
      ],
      "execution_count": 52,
      "outputs": [
        {
          "output_type": "execute_result",
          "data": {
            "text/plain": [
              "array([115179.00229533, 104038.80336649,  92898.60443764])"
            ]
          },
          "metadata": {
            "tags": []
          },
          "execution_count": 52
        }
      ]
    },
    {
      "cell_type": "code",
      "metadata": {
        "colab": {
          "base_uri": "https://localhost:8080/"
        },
        "id": "i7p-eU4YZfC6",
        "outputId": "d2f26f56-1d8e-452c-ed15-fc19d18be113"
      },
      "source": [
        "print(\"score : \", model.score(x_test, y_test))"
      ],
      "execution_count": 55,
      "outputs": [
        {
          "output_type": "stream",
          "text": [
            "score :  0.9307652093697021\n"
          ],
          "name": "stdout"
        }
      ]
    }
  ]
}